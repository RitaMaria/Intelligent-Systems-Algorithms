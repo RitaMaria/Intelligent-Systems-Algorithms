{
 "cells": [
  {
   "cell_type": "markdown",
   "metadata": {},
   "source": [
    "# Sistemas Inteligentes 2021/2022\n",
    "\n",
    "## Mini-projeto 2: Quadrados Latinos\n"
   ]
  },
  {
   "cell_type": "markdown",
   "metadata": {},
   "source": [
    "## Grupo: 50\n",
    "\n",
    "### Elementos do Grupo\n",
    "\n",
    "Número: 53841   Nome: Tomás Carrilho     \n",
    "Número: 54838   Nome: Matilde Carvalho    \n",
    "Número: 54859   Nome: Rita Rodrigues     "
   ]
  },
  {
   "cell_type": "markdown",
   "metadata": {},
   "source": [
    "## Representação de variáveis, domínios, vizinhos e restrições\n",
    "\n",
    "Descreva aqui, textualmente, como decidiu representar as variáveis, domínios, vizinhos e restrições em Python;"
   ]
  },
  {
   "cell_type": "markdown",
   "metadata": {},
   "source": [
    "Daqui em diante consideramos que o quadrado é representado numa matriz *n x n*."
   ]
  },
  {
   "cell_type": "markdown",
   "metadata": {},
   "source": [
    "### Quadrado latino"
   ]
  },
  {
   "cell_type": "markdown",
   "metadata": {},
   "source": [
    "Vamos representar as entradas que estão preenchidas inicialmente por uma lista de strings.\n",
    "Consideremos, por exemplo, a seguinte matriz. \\\n",
    "$\\begin{bmatrix}\n",
    "1 &   & 3 \\\\\n",
    "  & 3 &   \\\\\n",
    "  &   & 2\n",
    "\\end{bmatrix}$ \\\n",
    "A lista correspondente seria:\n",
    "```python\n",
    "['x11 = 1', 'x13 = 3', 'x22 = 3', 'x33 = 2']\n",
    "```"
   ]
  },
  {
   "cell_type": "markdown",
   "metadata": {},
   "source": [
    "#### Definição das variáveis\n",
    "$X_{ij}$ correspondente à célula na linha $i$ e na coluna $j$; $i,j \\in \\{1, ..., n\\}$ \\\n",
    "Em python, vamos ter a lista\n",
    "``` python\n",
    "    variaveis = ['x11', ..., 'xnn']\n",
    "```\n",
    "Que pode ser gerada da seguinte forma\n",
    "``` python\n",
    "    variaveis = [('x' + str(i) + str(j)) for i in range(1,n+1) for j in range(1,n+1)]\n",
    "```"
   ]
  },
  {
   "cell_type": "markdown",
   "metadata": {},
   "source": [
    "#### Definição dos domínios\n",
    "O domínio é um dicionário em que as chaves são as variáveis e os valores são o domínio de cada variável do problema. Estes domínios deveriam ser listas de 1 a *n*, mas dado que a implementação em CSP assume que as restrições são binárias, as restrições unárias foram eliminadas.\n",
    "``` python\n",
    "    dominios = {}\n",
    "    for v in variaveis :\n",
    "        dominios[v] = [i for i in range(1, n+1)]\n",
    "        \n",
    "    # No próximo ciclo for vamos eliminar as restrições unárias\n",
    "    \n",
    "    for restricao in lista_entradas:\n",
    "        dominios[restricao.split()[0]] = [int(restricao.split()[2])]\n",
    "```"
   ]
  },
  {
   "cell_type": "markdown",
   "metadata": {},
   "source": [
    "#### Definição dos vizinhos\n",
    "Vamos criar o grafo de restrições com os arcos seguintes:\n",
    "\n",
    "    x11 : x12 ... x1n x21 ... xn1\n",
    "    x12 : x13 ... x1n x22 ... xn2\n",
    "    ...\n",
    "    x21 : x22 ... x2n x31 ... xn1\n",
    "    ...\n",
    "\n",
    "``` python\n",
    "    viz = {}\n",
    "    for v in variaveis:\n",
    "        viz[v] = []\n",
    "        for k in range(1, n+1):\n",
    "            if k > int(v[1]):\n",
    "                viz[v].append('x' + str(k) + v[2])\n",
    "            if k > int(v[2]):\n",
    "                viz[v].append('x' + v[1] + str(k))\n",
    "\n",
    "    vi = ''\n",
    "    for i in viz:\n",
    "        vi += str(i)+ ' : '\n",
    "        for j in viz[i]:\n",
    "            vi += j + ' '\n",
    "        vi += \"; \"\n",
    "\n",
    "    vizinhos = parse_neighbors(vi[:-2])\n",
    "```"
   ]
  },
  {
   "cell_type": "markdown",
   "metadata": {},
   "source": [
    "#### Definir a função  que verifica a satisfação das restrições entre duas variáveis afectadas\n",
    "Vamos definir uma função que verifica se duas variáveis X, e Y satisfazem todas as restrições binárias em que estão envolvidas, quando afetadas respetivamente aos valores a e b. \\\n",
    "Temos as seguintes restrições não binárias (globais):\n",
    "- R_G1) n allDiff para cada linha\n",
    "- R_G2) n allDiff para cada coluna \n",
    "\n",
    "Que terão de ser transformadas em binárias. \n",
    "``` python\n",
    "    def diferentes(x,y):\n",
    "        return x != y\n",
    "```\n",
    "Vamos guardar as restrições binárias num dicionário em que cada chave é um par de variáveis e o valor é uma restrição (função).\n",
    "``` python\n",
    "    restricoes = {}\n",
    "\n",
    "    for v in variaveis:\n",
    "        for k in range(1, n+1):\n",
    "            if str(k) == v[1]:\n",
    "                for j in range(1, n+1):\n",
    "                    if str(j) != v[2]:\n",
    "                        restricoes[(v, 'x' + v[1] + str(j))] = diferentes\n",
    "            if str(k) == v[2]:\n",
    "                for j in range(1, n+1):\n",
    "                    if str(j) != v[1]:\n",
    "                        restricoes[(v, 'x' + str(j) + v[2])] = diferentes\n",
    "\n",
    "```\n",
    "No final da geração das restrições, é necessário verificar se X=a e Y=b satisfazem a restrição, que depende da ordem do par. Se não houver uma restrição entre essas duas variáveis então o resultado é True. \\\n",
    "Assim, a função `restricoes(X, a, Y, b)`, depois de se terem definido as condições e o dicionário com as restrições, irá devolver:\n",
    "```python\n",
    "    if (X,Y) in restricoes :\n",
    "        return restricoes[(X,Y)](a,b)\n",
    "    else: # Se não há restrição\n",
    "        True\n",
    "```"
   ]
  },
  {
   "cell_type": "markdown",
   "metadata": {},
   "source": [
    "### Futoshiki"
   ]
  },
  {
   "cell_type": "markdown",
   "metadata": {},
   "source": [
    "As variáveis, os domínios e as restrições são os mesmos.\n",
    "Surge ainda outra restrição, caso duas células adjacentes contenham uma desigualdade: nesse caso tem de se verificar a desigualdade.\n",
    "As desigualdades são representadas por uma lista de desigualdades, por exemplo: \n",
    "``` python\n",
    "['x13 > x14', 'x32 < x33', 'x32 > x42']\n",
    "```"
   ]
  },
  {
   "cell_type": "markdown",
   "metadata": {},
   "source": [
    "#### Definir a função  que verifica a satisfação das restrições entre duas variáveis afectadas\n",
    "Temos de adicionar o seguinte:\n",
    "``` python\n",
    "    def menor(x,y):\n",
    "        return x < y\n",
    "    def maior(x,y):\n",
    "        return x > y\n",
    "    \n",
    "    restricoes = {}\n",
    "    for restricao in lista_desigualdades:\n",
    "        if restricao.split()[1] == '<':\n",
    "            restricoes[(restricao.split()[0],restricao.split()[2])] = menor\n",
    "            restricoes[(restricao.split()[2],restricao.split()[0])] = maior\n",
    "        if restricao.split()[1] == '>':\n",
    "            restricoes[(restricao.split()[0],restricao.split()[2])] = maior\n",
    "            restricoes[(restricao.split()[2],restricao.split()[0])] = menor\n",
    "```"
   ]
  },
  {
   "cell_type": "markdown",
   "metadata": {},
   "source": [
    "## Formulação do problema"
   ]
  },
  {
   "cell_type": "markdown",
   "metadata": {},
   "source": [
    "### Quadrado latino"
   ]
  },
  {
   "cell_type": "code",
   "execution_count": 1,
   "metadata": {},
   "outputs": [],
   "source": [
    "from csp import *\n",
    "\n",
    "def diferentes(x,y):\n",
    "    \"\"\"x diferente de y\"\"\"\n",
    "    return x != y\n",
    "\n",
    "def quadrado_latino(n, lista_entradas):\n",
    "    \"\"\"\n",
    "    Pode receber parametros ou não.\n",
    "    Deve devolver um CSP, à semelhança dos guiões das aulas PL.\n",
    "    Comente o código.\n",
    "    \"\"\"\n",
    "    \n",
    "    # Definir Variáveis\n",
    "    variaveis = [('x' + str(i) + str(j)) for i in range(1,n+1) for j in range(1,n+1)]    \n",
    "    \n",
    "    # Definir Domínios\n",
    "    dominios = {}\n",
    "    for v in variaveis :\n",
    "        dominios[v] = [i for i in range(1, n+1)]\n",
    "        \n",
    "    # No próximo ciclo for vamos eliminar as restrições unárias\n",
    "    \n",
    "    for restricao in lista_entradas:\n",
    "        dominios[restricao.split()[0]] = [int(restricao.split()[2])]\n",
    "        \n",
    "    # Definir Vizinhos\n",
    "    viz = {}\n",
    "    for v in variaveis:\n",
    "        viz[v] = []\n",
    "        for k in range(1, n+1):\n",
    "            if k > int(v[1]):\n",
    "                viz[v].append('x' + str(k) + v[2])\n",
    "            if k > int(v[2]):\n",
    "                viz[v].append('x' + v[1] + str(k))\n",
    "\n",
    "    vi = ''\n",
    "    for i in viz:\n",
    "        vi += str(i)+ ' : '\n",
    "        for j in viz[i]:\n",
    "            vi += j + ' '\n",
    "        vi += \"; \"\n",
    "\n",
    "    vizinhos = parse_neighbors(vi[:-2])\n",
    "                \n",
    "    #Definir função que verifica restrições binárias\n",
    "    def restricoes_quadrado_latino(X, a, Y, b):\n",
    "        restricoes = {}\n",
    "        \n",
    "        for v in variaveis:\n",
    "            for k in range(1, n+1):\n",
    "                if str(k) == v[1]:\n",
    "                    for j in range(1, n+1):\n",
    "                        if str(j) != v[2]:\n",
    "                            restricoes[(v, 'x' + v[1] + str(j))] = diferentes\n",
    "                if str(k) == v[2]:\n",
    "                    for j in range(1, n+1):\n",
    "                        if str(j) != v[1]:\n",
    "                            restricoes[(v, 'x' + str(j) + v[2])] = diferentes\n",
    "\n",
    "        if (X,Y) in restricoes:\n",
    "            return restricoes[(X,Y)](a,b)\n",
    "        else:\n",
    "            True\n",
    "\n",
    "    return CSP(variaveis, dominios, vizinhos, restricoes_quadrado_latino)"
   ]
  },
  {
   "cell_type": "markdown",
   "metadata": {},
   "source": [
    "### Futoshiki"
   ]
  },
  {
   "cell_type": "code",
   "execution_count": 2,
   "metadata": {},
   "outputs": [],
   "source": [
    "# Funções binárias usadas nas restrições\n",
    "def diferentes(x,y):\n",
    "    return x != y\n",
    "\n",
    "def menor(x,y):\n",
    "    return x < y\n",
    "\n",
    "def maior(x,y):\n",
    "    return x > y\n",
    "\n",
    "\n",
    "def futoshiki(n, lista_entradas, lista_desigualdades):\n",
    "    \n",
    "    # Definir Variáveis\n",
    "    variaveis = [('x' + str(i) + str(j)) for i in range(1,n+1) for j in range(1,n+1)]    \n",
    "    \n",
    "    # Definir Domínios\n",
    "    dominios = {}\n",
    "    for v in variaveis :\n",
    "        dominios[v] = [i for i in range(1, n+1)]\n",
    "        \n",
    "    # No próximo ciclo for vamos eliminar as restrições unárias\n",
    "    \n",
    "    for restricao in lista_entradas:\n",
    "        dominios[restricao.split()[0]] = [int(restricao.split()[2])]\n",
    "        \n",
    "    # Definir Vizinhos\n",
    "    viz = {}\n",
    "    for v in variaveis:\n",
    "        viz[v] = []\n",
    "        for k in range(1, n+1):\n",
    "            if k > int(v[1]):\n",
    "                viz[v].append('x' + str(k) + v[2])\n",
    "            if k > int(v[2]):\n",
    "                viz[v].append('x' + v[1] + str(k))\n",
    "\n",
    "    vi = ''\n",
    "    for i in viz:\n",
    "        vi += str(i)+ ' : '\n",
    "        for j in viz[i]:\n",
    "            vi += j + ' '\n",
    "        vi += \"; \"\n",
    "\n",
    "    vizinhos = parse_neighbors(vi[:-2])\n",
    "    \n",
    "    #Definir função que verifica restrições binárias\n",
    "    def restricoes_futoshiki(X, a, Y, b):        \n",
    "        \n",
    "        restricoes = {}\n",
    "        \n",
    "        for v in variaveis:\n",
    "            for k in range(1, n+1):\n",
    "                if str(k) == v[1]:\n",
    "                    for j in range(1, n+1):\n",
    "                        if str(j) != v[2]:\n",
    "                            restricoes[(v, 'x' + v[1] + str(j))] = diferentes\n",
    "                if str(k) == v[2]:\n",
    "                    for j in range(1, n+1):\n",
    "                        if str(j) != v[1]:\n",
    "                            restricoes[(v, 'x' + str(j) + v[2])] = diferentes\n",
    "            \n",
    "        \n",
    "        \n",
    "        # restrições binárias\n",
    "        for restricao in lista_desigualdades:\n",
    "            if restricao.split()[1] == '<':\n",
    "                restricoes[(restricao.split()[0],restricao.split()[2])] = menor\n",
    "                restricoes[(restricao.split()[2],restricao.split()[0])] = maior\n",
    "            if restricao.split()[1] == '>':\n",
    "                restricoes[(restricao.split()[0],restricao.split()[2])] = maior\n",
    "                restricoes[(restricao.split()[2],restricao.split()[0])] = menor\n",
    "\n",
    "        if (X,Y) in restricoes:\n",
    "            return restricoes[(X,Y)](a,b)\n",
    "        else:\n",
    "            True\n",
    "            \n",
    "    return CSP(variaveis, dominios, vizinhos, restricoes_futoshiki)"
   ]
  },
  {
   "cell_type": "markdown",
   "metadata": {},
   "source": [
    "Para criar um quadrado latino basta `quadrado_latino(número da dimensão, [restrições separadas por virgulas])`"
   ]
  },
  {
   "cell_type": "markdown",
   "metadata": {},
   "source": [
    "Para criar um Futoshiki basta `futoshiki(número da dimensão, [restrições de igualdade separadas por virgulas], [restrições de maior e menor separadas por virgulas])`"
   ]
  },
  {
   "cell_type": "markdown",
   "metadata": {},
   "source": [
    "## Criação do problema do quadrado latino simples\n",
    "\n",
    "Mostrem que o código está a funcionar, construindo um problema de quadrado latino *4x4*, imprimindo as variáveis, domínios iniciais, e vizinhos. Adicione os comentários necessários. Mostre como podemos criar um puzzle com quadrados já preenchidos, e qual o impacto que isso tem nas variáveis, domínios iniciais, e vizinhos."
   ]
  },
  {
   "cell_type": "markdown",
   "metadata": {},
   "source": [
    "#### Problema de quadrado latino *4x4* sem quadrados preenchidos inicialmente"
   ]
  },
  {
   "cell_type": "code",
   "execution_count": 3,
   "metadata": {},
   "outputs": [],
   "source": [
    "p1 = quadrado_latino(4, [])"
   ]
  },
  {
   "cell_type": "code",
   "execution_count": 4,
   "metadata": {},
   "outputs": [
    {
     "name": "stdout",
     "output_type": "stream",
     "text": [
      "Variáveis =  ['x11', 'x12', 'x13', 'x14', 'x21', 'x22', 'x23', 'x24', 'x31', 'x32', 'x33', 'x34', 'x41', 'x42', 'x43', 'x44']\n",
      "Domínios =  {'x11': [1, 2, 3, 4], 'x12': [1, 2, 3, 4], 'x13': [1, 2, 3, 4], 'x14': [1, 2, 3, 4], 'x21': [1, 2, 3, 4], 'x22': [1, 2, 3, 4], 'x23': [1, 2, 3, 4], 'x24': [1, 2, 3, 4], 'x31': [1, 2, 3, 4], 'x32': [1, 2, 3, 4], 'x33': [1, 2, 3, 4], 'x34': [1, 2, 3, 4], 'x41': [1, 2, 3, 4], 'x42': [1, 2, 3, 4], 'x43': [1, 2, 3, 4], 'x44': [1, 2, 3, 4]}\n",
      "Vizinhos =  defaultdict(<class 'list'>, {'x11': ['x21', 'x12', 'x31', 'x13', 'x41', 'x14'], 'x21': ['x11', 'x22', 'x31', 'x23', 'x41', 'x24'], 'x12': ['x11', 'x22', 'x32', 'x13', 'x42', 'x14'], 'x31': ['x11', 'x21', 'x32', 'x33', 'x41', 'x34'], 'x13': ['x11', 'x12', 'x23', 'x33', 'x43', 'x14'], 'x41': ['x11', 'x21', 'x31', 'x42', 'x43', 'x44'], 'x14': ['x11', 'x12', 'x13', 'x24', 'x34', 'x44'], 'x22': ['x12', 'x21', 'x32', 'x23', 'x42', 'x24'], 'x32': ['x12', 'x22', 'x31', 'x33', 'x42', 'x34'], 'x42': ['x12', 'x22', 'x32', 'x41', 'x43', 'x44'], 'x23': ['x13', 'x21', 'x22', 'x33', 'x43', 'x24'], 'x33': ['x13', 'x23', 'x31', 'x32', 'x43', 'x34'], 'x43': ['x13', 'x23', 'x33', 'x41', 'x42', 'x44'], 'x24': ['x14', 'x21', 'x22', 'x23', 'x34', 'x44'], 'x34': ['x14', 'x24', 'x31', 'x32', 'x33', 'x44'], 'x44': ['x14', 'x24', 'x34', 'x41', 'x42', 'x43']})\n"
     ]
    }
   ],
   "source": [
    "print(\"Variáveis = \", p1.variables)\n",
    "print(\"Domínios = \", p1.domains)\n",
    "print(\"Vizinhos = \", p1.neighbors)"
   ]
  },
  {
   "cell_type": "markdown",
   "metadata": {},
   "source": [
    "#### Problema de quadrado latino *4x4* com quadrados preenchidos inicialmente"
   ]
  },
  {
   "cell_type": "code",
   "execution_count": 5,
   "metadata": {},
   "outputs": [],
   "source": [
    "p2 = quadrado_latino(4, ['x11 = 2', 'x31 = 3', 'x32 = 1', 'x41 = 1', 'x42 = 2', 'x43 = 3'])"
   ]
  },
  {
   "cell_type": "code",
   "execution_count": 6,
   "metadata": {},
   "outputs": [
    {
     "name": "stdout",
     "output_type": "stream",
     "text": [
      "Variáveis =  ['x11', 'x12', 'x13', 'x14', 'x21', 'x22', 'x23', 'x24', 'x31', 'x32', 'x33', 'x34', 'x41', 'x42', 'x43', 'x44']\n",
      "Domínios =  {'x11': [2], 'x12': [1, 2, 3, 4], 'x13': [1, 2, 3, 4], 'x14': [1, 2, 3, 4], 'x21': [1, 2, 3, 4], 'x22': [1, 2, 3, 4], 'x23': [1, 2, 3, 4], 'x24': [1, 2, 3, 4], 'x31': [3], 'x32': [1], 'x33': [1, 2, 3, 4], 'x34': [1, 2, 3, 4], 'x41': [1], 'x42': [2], 'x43': [3], 'x44': [1, 2, 3, 4]}\n",
      "Vizinhos =  defaultdict(<class 'list'>, {'x11': ['x21', 'x12', 'x31', 'x13', 'x41', 'x14'], 'x21': ['x11', 'x22', 'x31', 'x23', 'x41', 'x24'], 'x12': ['x11', 'x22', 'x32', 'x13', 'x42', 'x14'], 'x31': ['x11', 'x21', 'x32', 'x33', 'x41', 'x34'], 'x13': ['x11', 'x12', 'x23', 'x33', 'x43', 'x14'], 'x41': ['x11', 'x21', 'x31', 'x42', 'x43', 'x44'], 'x14': ['x11', 'x12', 'x13', 'x24', 'x34', 'x44'], 'x22': ['x12', 'x21', 'x32', 'x23', 'x42', 'x24'], 'x32': ['x12', 'x22', 'x31', 'x33', 'x42', 'x34'], 'x42': ['x12', 'x22', 'x32', 'x41', 'x43', 'x44'], 'x23': ['x13', 'x21', 'x22', 'x33', 'x43', 'x24'], 'x33': ['x13', 'x23', 'x31', 'x32', 'x43', 'x34'], 'x43': ['x13', 'x23', 'x33', 'x41', 'x42', 'x44'], 'x24': ['x14', 'x21', 'x22', 'x23', 'x34', 'x44'], 'x34': ['x14', 'x24', 'x31', 'x32', 'x33', 'x44'], 'x44': ['x14', 'x24', 'x34', 'x41', 'x42', 'x43']})\n"
     ]
    }
   ],
   "source": [
    "print(\"Variáveis = \", p2.variables)\n",
    "print(\"Domínios = \", p2.domains)\n",
    "print(\"Vizinhos = \", p2.neighbors)"
   ]
  },
  {
   "cell_type": "markdown",
   "metadata": {},
   "source": [
    "Quer no quadrado latino simples `p1` quer o quadrado latino com restrições `p2` no número de variáveis não se altera. Relativamente aos domínios no quadrado latino simples, como não tem restrições todas as variáveis têm o mesmo domínio com a dimensão do quadrado, neste caso 4, ou seja, as variáveis podem tomar os valores pertencentes ao domínio [1,2,3,4].  Por outro lado, como o quadrado latino `p2` tem restrições, como por exemplo `x11=2`, assim a variável `x11` só pode tomar o valor 2, o que resulta numa restrição ao domínio de `x11`. Relativamente aos vizinhos de cada quadrado podemos observar que são iguais. Neste caso em concreto as restrições apenas traduzem uma mudança nos domínios das variáveis. "
   ]
  },
  {
   "cell_type": "markdown",
   "metadata": {},
   "source": [
    "Resolva o problema com o backtracking sem inferencia, com inferencia, e com uma heurística."
   ]
  },
  {
   "cell_type": "markdown",
   "metadata": {},
   "source": [
    "###  Procura com retrocesso, simples, sem inferência nem heurísticas"
   ]
  },
  {
   "cell_type": "code",
   "execution_count": 7,
   "metadata": {},
   "outputs": [],
   "source": [
    "import timeit"
   ]
  },
  {
   "cell_type": "code",
   "execution_count": 8,
   "metadata": {},
   "outputs": [],
   "source": [
    "dt={}"
   ]
  },
  {
   "cell_type": "code",
   "execution_count": 9,
   "metadata": {},
   "outputs": [
    {
     "name": "stdout",
     "output_type": "stream",
     "text": [
      "Solução para quadrado latino 4x4 =  {'x11': 1, 'x12': 2, 'x13': 3, 'x14': 4, 'x21': 2, 'x22': 1, 'x23': 4, 'x24': 3, 'x31': 3, 'x32': 4, 'x33': 1, 'x34': 2, 'x41': 4, 'x42': 3, 'x43': 2, 'x44': 1}\n",
      "Time:  0.02444040000000003\n"
     ]
    }
   ],
   "source": [
    "p = quadrado_latino(4, [])\n",
    "start = timeit.default_timer()\n",
    "r = backtracking_search(p)\n",
    "stop = timeit.default_timer()\n",
    "print('Solução para quadrado latino 4x4 = ',r) \n",
    "time = stop-start\n",
    "print('Time: ', time)\n",
    "\n",
    "dt[\"Procura com retrocesso, simples, sem inferência nem heurísticas\"]=time"
   ]
  },
  {
   "cell_type": "markdown",
   "metadata": {},
   "source": [
    "Para percebermos detalhadamente todo o processo de resolução vamos colocar `verbose=True`."
   ]
  },
  {
   "cell_type": "code",
   "execution_count": 10,
   "metadata": {},
   "outputs": [
    {
     "name": "stdout",
     "output_type": "stream",
     "text": [
      "Curr_domains: None\n",
      "Current assignment: {}\n",
      "\n",
      "Next selected Var = x11\n",
      "Sorted domain left [1, 2, 3, 4]\n",
      "--Test x11 1\n",
      "----Assigned!\n",
      "Curr_domains: {'x11': [1], 'x12': [1, 2, 3, 4], 'x13': [1, 2, 3, 4], 'x14': [1, 2, 3, 4], 'x21': [1, 2, 3, 4], 'x22': [1, 2, 3, 4], 'x23': [1, 2, 3, 4], 'x24': [1, 2, 3, 4], 'x31': [1, 2, 3, 4], 'x32': [1, 2, 3, 4], 'x33': [1, 2, 3, 4], 'x34': [1, 2, 3, 4], 'x41': [1, 2, 3, 4], 'x42': [1, 2, 3, 4], 'x43': [1, 2, 3, 4], 'x44': [1, 2, 3, 4]}\n",
      "Current assignment: {'x11': 1}\n",
      "\n",
      "Next selected Var = x12\n",
      "Sorted domain left [1, 2, 3, 4]\n",
      "--Test x12 1\n",
      "----Conflict!!\n",
      "--Test x12 2\n",
      "----Assigned!\n",
      "Curr_domains: {'x11': [1], 'x12': [2], 'x13': [1, 2, 3, 4], 'x14': [1, 2, 3, 4], 'x21': [1, 2, 3, 4], 'x22': [1, 2, 3, 4], 'x23': [1, 2, 3, 4], 'x24': [1, 2, 3, 4], 'x31': [1, 2, 3, 4], 'x32': [1, 2, 3, 4], 'x33': [1, 2, 3, 4], 'x34': [1, 2, 3, 4], 'x41': [1, 2, 3, 4], 'x42': [1, 2, 3, 4], 'x43': [1, 2, 3, 4], 'x44': [1, 2, 3, 4]}\n",
      "Current assignment: {'x11': 1, 'x12': 2}\n",
      "\n",
      "Next selected Var = x13\n",
      "Sorted domain left [1, 2, 3, 4]\n",
      "--Test x13 1\n",
      "----Conflict!!\n",
      "--Test x13 2\n",
      "----Conflict!!\n",
      "--Test x13 3\n",
      "----Assigned!\n",
      "Curr_domains: {'x11': [1], 'x12': [2], 'x13': [3], 'x14': [1, 2, 3, 4], 'x21': [1, 2, 3, 4], 'x22': [1, 2, 3, 4], 'x23': [1, 2, 3, 4], 'x24': [1, 2, 3, 4], 'x31': [1, 2, 3, 4], 'x32': [1, 2, 3, 4], 'x33': [1, 2, 3, 4], 'x34': [1, 2, 3, 4], 'x41': [1, 2, 3, 4], 'x42': [1, 2, 3, 4], 'x43': [1, 2, 3, 4], 'x44': [1, 2, 3, 4]}\n",
      "Current assignment: {'x11': 1, 'x12': 2, 'x13': 3}\n",
      "\n",
      "Next selected Var = x14\n",
      "Sorted domain left [1, 2, 3, 4]\n",
      "--Test x14 1\n",
      "----Conflict!!\n",
      "--Test x14 2\n",
      "----Conflict!!\n",
      "--Test x14 3\n",
      "----Conflict!!\n",
      "--Test x14 4\n",
      "----Assigned!\n",
      "Curr_domains: {'x11': [1], 'x12': [2], 'x13': [3], 'x14': [4], 'x21': [1, 2, 3, 4], 'x22': [1, 2, 3, 4], 'x23': [1, 2, 3, 4], 'x24': [1, 2, 3, 4], 'x31': [1, 2, 3, 4], 'x32': [1, 2, 3, 4], 'x33': [1, 2, 3, 4], 'x34': [1, 2, 3, 4], 'x41': [1, 2, 3, 4], 'x42': [1, 2, 3, 4], 'x43': [1, 2, 3, 4], 'x44': [1, 2, 3, 4]}\n",
      "Current assignment: {'x11': 1, 'x12': 2, 'x13': 3, 'x14': 4}\n",
      "\n",
      "Next selected Var = x21\n",
      "Sorted domain left [1, 2, 3, 4]\n",
      "--Test x21 1\n",
      "----Conflict!!\n",
      "--Test x21 2\n",
      "----Assigned!\n",
      "Curr_domains: {'x11': [1], 'x12': [2], 'x13': [3], 'x14': [4], 'x21': [2], 'x22': [1, 2, 3, 4], 'x23': [1, 2, 3, 4], 'x24': [1, 2, 3, 4], 'x31': [1, 2, 3, 4], 'x32': [1, 2, 3, 4], 'x33': [1, 2, 3, 4], 'x34': [1, 2, 3, 4], 'x41': [1, 2, 3, 4], 'x42': [1, 2, 3, 4], 'x43': [1, 2, 3, 4], 'x44': [1, 2, 3, 4]}\n",
      "Current assignment: {'x11': 1, 'x12': 2, 'x13': 3, 'x14': 4, 'x21': 2}\n",
      "\n",
      "Next selected Var = x22\n",
      "Sorted domain left [1, 2, 3, 4]\n",
      "--Test x22 1\n",
      "----Assigned!\n",
      "Curr_domains: {'x11': [1], 'x12': [2], 'x13': [3], 'x14': [4], 'x21': [2], 'x22': [1], 'x23': [1, 2, 3, 4], 'x24': [1, 2, 3, 4], 'x31': [1, 2, 3, 4], 'x32': [1, 2, 3, 4], 'x33': [1, 2, 3, 4], 'x34': [1, 2, 3, 4], 'x41': [1, 2, 3, 4], 'x42': [1, 2, 3, 4], 'x43': [1, 2, 3, 4], 'x44': [1, 2, 3, 4]}\n",
      "Current assignment: {'x11': 1, 'x12': 2, 'x13': 3, 'x14': 4, 'x21': 2, 'x22': 1}\n",
      "\n",
      "Next selected Var = x23\n",
      "Sorted domain left [1, 2, 3, 4]\n",
      "--Test x23 1\n",
      "----Conflict!!\n",
      "--Test x23 2\n",
      "----Conflict!!\n",
      "--Test x23 3\n",
      "----Conflict!!\n",
      "--Test x23 4\n",
      "----Assigned!\n",
      "Curr_domains: {'x11': [1], 'x12': [2], 'x13': [3], 'x14': [4], 'x21': [2], 'x22': [1], 'x23': [4], 'x24': [1, 2, 3, 4], 'x31': [1, 2, 3, 4], 'x32': [1, 2, 3, 4], 'x33': [1, 2, 3, 4], 'x34': [1, 2, 3, 4], 'x41': [1, 2, 3, 4], 'x42': [1, 2, 3, 4], 'x43': [1, 2, 3, 4], 'x44': [1, 2, 3, 4]}\n",
      "Current assignment: {'x11': 1, 'x12': 2, 'x13': 3, 'x14': 4, 'x21': 2, 'x22': 1, 'x23': 4}\n",
      "\n",
      "Next selected Var = x24\n",
      "Sorted domain left [1, 2, 3, 4]\n",
      "--Test x24 1\n",
      "----Conflict!!\n",
      "--Test x24 2\n",
      "----Conflict!!\n",
      "--Test x24 3\n",
      "----Assigned!\n",
      "Curr_domains: {'x11': [1], 'x12': [2], 'x13': [3], 'x14': [4], 'x21': [2], 'x22': [1], 'x23': [4], 'x24': [3], 'x31': [1, 2, 3, 4], 'x32': [1, 2, 3, 4], 'x33': [1, 2, 3, 4], 'x34': [1, 2, 3, 4], 'x41': [1, 2, 3, 4], 'x42': [1, 2, 3, 4], 'x43': [1, 2, 3, 4], 'x44': [1, 2, 3, 4]}\n",
      "Current assignment: {'x11': 1, 'x12': 2, 'x13': 3, 'x14': 4, 'x21': 2, 'x22': 1, 'x23': 4, 'x24': 3}\n",
      "\n",
      "Next selected Var = x31\n",
      "Sorted domain left [1, 2, 3, 4]\n",
      "--Test x31 1\n",
      "----Conflict!!\n",
      "--Test x31 2\n",
      "----Conflict!!\n",
      "--Test x31 3\n",
      "----Assigned!\n",
      "Curr_domains: {'x11': [1], 'x12': [2], 'x13': [3], 'x14': [4], 'x21': [2], 'x22': [1], 'x23': [4], 'x24': [3], 'x31': [3], 'x32': [1, 2, 3, 4], 'x33': [1, 2, 3, 4], 'x34': [1, 2, 3, 4], 'x41': [1, 2, 3, 4], 'x42': [1, 2, 3, 4], 'x43': [1, 2, 3, 4], 'x44': [1, 2, 3, 4]}\n",
      "Current assignment: {'x11': 1, 'x12': 2, 'x13': 3, 'x14': 4, 'x21': 2, 'x22': 1, 'x23': 4, 'x24': 3, 'x31': 3}\n",
      "\n",
      "Next selected Var = x32\n",
      "Sorted domain left [1, 2, 3, 4]\n",
      "--Test x32 1\n",
      "----Conflict!!\n",
      "--Test x32 2\n",
      "----Conflict!!\n",
      "--Test x32 3\n",
      "----Conflict!!\n",
      "--Test x32 4\n",
      "----Assigned!\n",
      "Curr_domains: {'x11': [1], 'x12': [2], 'x13': [3], 'x14': [4], 'x21': [2], 'x22': [1], 'x23': [4], 'x24': [3], 'x31': [3], 'x32': [4], 'x33': [1, 2, 3, 4], 'x34': [1, 2, 3, 4], 'x41': [1, 2, 3, 4], 'x42': [1, 2, 3, 4], 'x43': [1, 2, 3, 4], 'x44': [1, 2, 3, 4]}\n",
      "Current assignment: {'x11': 1, 'x12': 2, 'x13': 3, 'x14': 4, 'x21': 2, 'x22': 1, 'x23': 4, 'x24': 3, 'x31': 3, 'x32': 4}\n",
      "\n",
      "Next selected Var = x33\n",
      "Sorted domain left [1, 2, 3, 4]\n",
      "--Test x33 1\n",
      "----Assigned!\n",
      "Curr_domains: {'x11': [1], 'x12': [2], 'x13': [3], 'x14': [4], 'x21': [2], 'x22': [1], 'x23': [4], 'x24': [3], 'x31': [3], 'x32': [4], 'x33': [1], 'x34': [1, 2, 3, 4], 'x41': [1, 2, 3, 4], 'x42': [1, 2, 3, 4], 'x43': [1, 2, 3, 4], 'x44': [1, 2, 3, 4]}\n",
      "Current assignment: {'x11': 1, 'x12': 2, 'x13': 3, 'x14': 4, 'x21': 2, 'x22': 1, 'x23': 4, 'x24': 3, 'x31': 3, 'x32': 4, 'x33': 1}\n",
      "\n",
      "Next selected Var = x34\n",
      "Sorted domain left [1, 2, 3, 4]\n",
      "--Test x34 1\n",
      "----Conflict!!\n",
      "--Test x34 2\n",
      "----Assigned!\n",
      "Curr_domains: {'x11': [1], 'x12': [2], 'x13': [3], 'x14': [4], 'x21': [2], 'x22': [1], 'x23': [4], 'x24': [3], 'x31': [3], 'x32': [4], 'x33': [1], 'x34': [2], 'x41': [1, 2, 3, 4], 'x42': [1, 2, 3, 4], 'x43': [1, 2, 3, 4], 'x44': [1, 2, 3, 4]}\n",
      "Current assignment: {'x11': 1, 'x12': 2, 'x13': 3, 'x14': 4, 'x21': 2, 'x22': 1, 'x23': 4, 'x24': 3, 'x31': 3, 'x32': 4, 'x33': 1, 'x34': 2}\n",
      "\n",
      "Next selected Var = x41\n",
      "Sorted domain left [1, 2, 3, 4]\n",
      "--Test x41 1\n",
      "----Conflict!!\n",
      "--Test x41 2\n",
      "----Conflict!!\n",
      "--Test x41 3\n",
      "----Conflict!!\n",
      "--Test x41 4\n",
      "----Assigned!\n",
      "Curr_domains: {'x11': [1], 'x12': [2], 'x13': [3], 'x14': [4], 'x21': [2], 'x22': [1], 'x23': [4], 'x24': [3], 'x31': [3], 'x32': [4], 'x33': [1], 'x34': [2], 'x41': [4], 'x42': [1, 2, 3, 4], 'x43': [1, 2, 3, 4], 'x44': [1, 2, 3, 4]}\n",
      "Current assignment: {'x11': 1, 'x12': 2, 'x13': 3, 'x14': 4, 'x21': 2, 'x22': 1, 'x23': 4, 'x24': 3, 'x31': 3, 'x32': 4, 'x33': 1, 'x34': 2, 'x41': 4}\n",
      "\n",
      "Next selected Var = x42\n",
      "Sorted domain left [1, 2, 3, 4]\n",
      "--Test x42 1\n",
      "----Conflict!!\n",
      "--Test x42 2\n",
      "----Conflict!!\n",
      "--Test x42 3\n",
      "----Assigned!\n",
      "Curr_domains: {'x11': [1], 'x12': [2], 'x13': [3], 'x14': [4], 'x21': [2], 'x22': [1], 'x23': [4], 'x24': [3], 'x31': [3], 'x32': [4], 'x33': [1], 'x34': [2], 'x41': [4], 'x42': [3], 'x43': [1, 2, 3, 4], 'x44': [1, 2, 3, 4]}\n",
      "Current assignment: {'x11': 1, 'x12': 2, 'x13': 3, 'x14': 4, 'x21': 2, 'x22': 1, 'x23': 4, 'x24': 3, 'x31': 3, 'x32': 4, 'x33': 1, 'x34': 2, 'x41': 4, 'x42': 3}\n",
      "\n",
      "Next selected Var = x43\n",
      "Sorted domain left [1, 2, 3, 4]\n",
      "--Test x43 1\n",
      "----Conflict!!\n",
      "--Test x43 2\n",
      "----Assigned!\n",
      "Curr_domains: {'x11': [1], 'x12': [2], 'x13': [3], 'x14': [4], 'x21': [2], 'x22': [1], 'x23': [4], 'x24': [3], 'x31': [3], 'x32': [4], 'x33': [1], 'x34': [2], 'x41': [4], 'x42': [3], 'x43': [2], 'x44': [1, 2, 3, 4]}\n",
      "Current assignment: {'x11': 1, 'x12': 2, 'x13': 3, 'x14': 4, 'x21': 2, 'x22': 1, 'x23': 4, 'x24': 3, 'x31': 3, 'x32': 4, 'x33': 1, 'x34': 2, 'x41': 4, 'x42': 3, 'x43': 2}\n",
      "\n",
      "Next selected Var = x44\n",
      "Sorted domain left [1, 2, 3, 4]\n",
      "--Test x44 1\n",
      "----Assigned!\n",
      "Solução para quadrado latino 4x4 =  {'x11': 1, 'x12': 2, 'x13': 3, 'x14': 4, 'x21': 2, 'x22': 1, 'x23': 4, 'x24': 3, 'x31': 3, 'x32': 4, 'x33': 1, 'x34': 2, 'x41': 4, 'x42': 3, 'x43': 2, 'x44': 1}\n"
     ]
    }
   ],
   "source": [
    "p = quadrado_latino(4, [])\n",
    "r = backtracking_search(p,verbose = True)\n",
    "print('Solução para quadrado latino 4x4 = ',r)"
   ]
  },
  {
   "cell_type": "markdown",
   "metadata": {},
   "source": [
    "### Procura com retrocesso com forward checking com pré-filtragem por AC3"
   ]
  },
  {
   "cell_type": "code",
   "execution_count": 11,
   "metadata": {},
   "outputs": [
    {
     "name": "stdout",
     "output_type": "stream",
     "text": [
      "\n",
      "Retrocesso com forward checking com pré-filtragem por AC3\n",
      "Solução para quadrado latino 4x4 =  {'x11': 1, 'x12': 2, 'x13': 3, 'x14': 4, 'x21': 2, 'x22': 1, 'x23': 4, 'x24': 3, 'x31': 3, 'x32': 4, 'x33': 1, 'x34': 2, 'x41': 4, 'x42': 3, 'x43': 2, 'x44': 1}\n",
      "Time:  0.030144599999999855\n"
     ]
    }
   ],
   "source": [
    "p = quadrado_latino(4, [])\n",
    "print(\"\\nRetrocesso com forward checking com pré-filtragem por AC3\")\n",
    "p_ac3 = AC3(p)\n",
    "start = timeit.default_timer()\n",
    "r = backtracking_search(p_ac3,inference = forward_checking)\n",
    "stop = timeit.default_timer()\n",
    "print('Solução para quadrado latino 4x4 = ',r)\n",
    "time = stop-start\n",
    "print('Time: ', time)\n",
    "\n",
    "dt[\"Procura com retrocesso com forward checking com pré-filtragem por AC3\"]=time"
   ]
  },
  {
   "cell_type": "code",
   "execution_count": 12,
   "metadata": {},
   "outputs": [
    {
     "name": "stdout",
     "output_type": "stream",
     "text": [
      "\n",
      "Domínio após AC3: {'x11': [1, 2, 3, 4], 'x12': [1, 2, 3, 4], 'x13': [1, 2, 3, 4], 'x14': [1, 2, 3, 4], 'x21': [1, 2, 3, 4], 'x22': [1, 2, 3, 4], 'x23': [1, 2, 3, 4], 'x24': [1, 2, 3, 4], 'x31': [1, 2, 3, 4], 'x32': [1, 2, 3, 4], 'x33': [1, 2, 3, 4], 'x34': [1, 2, 3, 4], 'x41': [1, 2, 3, 4], 'x42': [1, 2, 3, 4], 'x43': [1, 2, 3, 4], 'x44': [1, 2, 3, 4]}\n"
     ]
    }
   ],
   "source": [
    "# Vejemos os domínios após o AC3\n",
    "print('\\nDomínio após AC3:',p_ac3.domains)"
   ]
  },
  {
   "cell_type": "markdown",
   "metadata": {},
   "source": [
    "Neste problema o AC3 não reduz os domínios das variáveis."
   ]
  },
  {
   "cell_type": "markdown",
   "metadata": {},
   "source": [
    "### Procura com retrocesso com a heurística da variável com menor domínio (mrv)"
   ]
  },
  {
   "cell_type": "code",
   "execution_count": 13,
   "metadata": {},
   "outputs": [
    {
     "name": "stdout",
     "output_type": "stream",
     "text": [
      "Solução para quadrado latino 4x4 =  {'x24': 1, 'x42': 1, 'x14': 2, 'x13': 1, 'x32': 2, 'x21': 2, 'x43': 2, 'x22': 3, 'x31': 1, 'x34': 4, 'x23': 4, 'x33': 3, 'x11': 3, 'x41': 4, 'x44': 3, 'x12': 4}\n",
      "Time:  0.03930509999999998\n"
     ]
    }
   ],
   "source": [
    "p = quadrado_latino(4, [])\n",
    "start = timeit.default_timer()\n",
    "r = backtracking_search(p,select_unassigned_variable = mrv)\n",
    "stop = timeit.default_timer()\n",
    "print('Solução para quadrado latino 4x4 = ',r)\n",
    "time = stop-start\n",
    "print('Time: ', time)\n",
    "\n",
    "dt[\"Procura com retrocesso com a heurística da variável com menor domínio (mrv)\"]=time"
   ]
  },
  {
   "cell_type": "markdown",
   "metadata": {},
   "source": [
    "### Procura com retrocesso com forward checking e sem heurísticas"
   ]
  },
  {
   "cell_type": "code",
   "execution_count": 14,
   "metadata": {},
   "outputs": [
    {
     "name": "stdout",
     "output_type": "stream",
     "text": [
      "Solução para quadrado latino 4x4 =  {'x11': 1, 'x12': 2, 'x13': 3, 'x14': 4, 'x21': 2, 'x22': 1, 'x23': 4, 'x24': 3, 'x31': 3, 'x32': 4, 'x33': 1, 'x34': 2, 'x41': 4, 'x42': 3, 'x43': 2, 'x44': 1}\n",
      "Time:  0.03418510000000019\n"
     ]
    }
   ],
   "source": [
    "p = quadrado_latino(4, [])\n",
    "start = timeit.default_timer()\n",
    "r = backtracking_search(p,inference=forward_checking)\n",
    "stop = timeit.default_timer()\n",
    "print('Solução para quadrado latino 4x4 = ',r)\n",
    "time = stop-start\n",
    "print('Time: ', time)\n",
    "\n",
    "dt[\"Procura com retrocesso com forward checking e sem heurísticas\"]=time"
   ]
  },
  {
   "cell_type": "markdown",
   "metadata": {},
   "source": [
    "### Procura com retrocesso com forward checking e com mrv"
   ]
  },
  {
   "cell_type": "code",
   "execution_count": 15,
   "metadata": {},
   "outputs": [
    {
     "name": "stdout",
     "output_type": "stream",
     "text": [
      "Solução para quadrado latino 4x4 =  {'x41': 1, 'x21': 2, 'x31': 3, 'x11': 4, 'x22': 1, 'x23': 3, 'x24': 4, 'x32': 2, 'x34': 1, 'x12': 3, 'x42': 4, 'x43': 2, 'x33': 4, 'x14': 2, 'x44': 3, 'x13': 1}\n",
      "Time:  0.03289680000000006\n"
     ]
    }
   ],
   "source": [
    "p = quadrado_latino(4, [])\n",
    "start = timeit.default_timer()\n",
    "r = backtracking_search(p,select_unassigned_variable = mrv,inference=forward_checking)\n",
    "stop = timeit.default_timer()\n",
    "print('Solução para quadrado latino 4x4 = ',r)\n",
    "time = stop-start\n",
    "print('Time: ', time)\n",
    "\n",
    "dt[\"Procura com retrocesso com forward checking e com mrv\"]=time"
   ]
  },
  {
   "cell_type": "markdown",
   "metadata": {},
   "source": [
    "### Procura com retrocesso com mac"
   ]
  },
  {
   "cell_type": "code",
   "execution_count": 16,
   "metadata": {},
   "outputs": [
    {
     "name": "stdout",
     "output_type": "stream",
     "text": [
      "Solução para quadrado latino 4x4 =  {'x11': 1, 'x12': 2, 'x13': 3, 'x14': 4, 'x21': 2, 'x22': 1, 'x23': 4, 'x24': 3, 'x31': 3, 'x32': 4, 'x33': 1, 'x34': 2, 'x41': 4, 'x42': 3, 'x43': 2, 'x44': 1}\n",
      "Time:  0.0962632000000001\n"
     ]
    }
   ],
   "source": [
    "p = quadrado_latino(4, [])\n",
    "start = timeit.default_timer()\n",
    "r = backtracking_search(p,inference=mac)\n",
    "stop = timeit.default_timer()\n",
    "print('Solução para quadrado latino 4x4 = ',r)\n",
    "time = stop-start\n",
    "print('Time: ', time)\n",
    "\n",
    "dt[\"Procura com retrocesso com mac\"]=time"
   ]
  },
  {
   "cell_type": "markdown",
   "metadata": {},
   "source": [
    "###  Procura com retrocesso com mac e com mrv"
   ]
  },
  {
   "cell_type": "code",
   "execution_count": 17,
   "metadata": {},
   "outputs": [
    {
     "name": "stdout",
     "output_type": "stream",
     "text": [
      "Solução para quadrado latino 4x4 =  {'x42': 1, 'x22': 2, 'x12': 3, 'x32': 4, 'x44': 2, 'x14': 1, 'x34': 3, 'x24': 4, 'x41': 3, 'x13': 2, 'x23': 3, 'x21': 1, 'x33': 1, 'x31': 2, 'x11': 4, 'x43': 4}\n",
      "Time:  0.09478200000000037\n"
     ]
    }
   ],
   "source": [
    "p = quadrado_latino(4, [])\n",
    "start = timeit.default_timer()\n",
    "r = backtracking_search(p,select_unassigned_variable = mrv,inference=mac)\n",
    "stop = timeit.default_timer()\n",
    "print('Solução para quadrado latino 4x4 = ',r)\n",
    "time = stop-start\n",
    "print('Time: ', time)\n",
    "\n",
    "dt[\"Procura com retrocesso com mac e com mrv\"]=time"
   ]
  },
  {
   "cell_type": "markdown",
   "metadata": {},
   "source": [
    "Assim sendo ordenado de forma crescente pelo tempo gasto a resolver o problema:"
   ]
  },
  {
   "cell_type": "code",
   "execution_count": 18,
   "metadata": {},
   "outputs": [
    {
     "name": "stdout",
     "output_type": "stream",
     "text": [
      "Procura com retrocesso, simples, sem inferência nem heurísticas 0.02444040000000003\n",
      "Procura com retrocesso com forward checking com pré-filtragem por AC3 0.030144599999999855\n",
      "Procura com retrocesso com forward checking e com mrv 0.03289680000000006\n",
      "Procura com retrocesso com forward checking e sem heurísticas 0.03418510000000019\n",
      "Procura com retrocesso com a heurística da variável com menor domínio (mrv) 0.03930509999999998\n",
      "Procura com retrocesso com mac e com mrv 0.09478200000000037\n",
      "Procura com retrocesso com mac 0.0962632000000001\n"
     ]
    }
   ],
   "source": [
    "for item in sorted(dt, key = dt.get):\n",
    "    print (item, dt[item])"
   ]
  },
  {
   "cell_type": "markdown",
   "metadata": {},
   "source": [
    "#### Quadrado latino *5x5*"
   ]
  },
  {
   "cell_type": "code",
   "execution_count": 19,
   "metadata": {},
   "outputs": [
    {
     "name": "stdout",
     "output_type": "stream",
     "text": [
      "Apliquemos a procura com retrocesso, simples, sem inferência nem heurísticas\n",
      "Solução: {'x11': 4, 'x12': 1, 'x13': 2, 'x14': 3, 'x15': 5, 'x21': 2, 'x22': 3, 'x23': 1, 'x24': 5, 'x25': 4, 'x31': 1, 'x32': 2, 'x33': 5, 'x34': 4, 'x35': 3, 'x41': 5, 'x42': 4, 'x43': 3, 'x44': 2, 'x45': 1, 'x51': 3, 'x52': 5, 'x53': 4, 'x54': 1, 'x55': 2}\n",
      "Time:  0.4194906999999999\n",
      "\n",
      "Retrocesso com forward checking com pré-filtragem por AC3\n",
      "Solução: {'x11': 4, 'x12': 1, 'x13': 2, 'x14': 3, 'x15': 5, 'x21': 2, 'x22': 3, 'x23': 1, 'x24': 5, 'x25': 4, 'x31': 1, 'x32': 2, 'x33': 5, 'x34': 4, 'x35': 3, 'x41': 5, 'x42': 4, 'x43': 3, 'x44': 2, 'x45': 1, 'x51': 3, 'x52': 5, 'x53': 4, 'x54': 1, 'x55': 2}\n",
      "Time:  0.3162351000000001\n",
      "\n",
      "Apliquemos a procura com retrocesso com a heurística da variável com menor domínio (mrv):\n",
      "Solução: {'x11': 4, 'x35': 3, 'x23': 1, 'x42': 4, 'x55': 2, 'x52': 1, 'x53': 3, 'x54': 4, 'x25': 4, 'x44': 1, 'x41': 3, 'x13': 5, 'x32': 5, 'x12': 2, 'x24': 5, 'x14': 3, 'x45': 5, 'x31': 1, 'x43': 2, 'x51': 5, 'x21': 2, 'x33': 4, 'x15': 1, 'x22': 3, 'x34': 2}\n",
      "Time:  0.9115991000000001\n",
      "\n",
      "Apliquemos a procura com retrocesso com forward checking e sem heurísticas\n",
      "Solução: {'x11': 4, 'x12': 1, 'x13': 2, 'x14': 3, 'x15': 5, 'x21': 2, 'x22': 3, 'x23': 1, 'x24': 5, 'x25': 4, 'x31': 5, 'x32': 2, 'x33': 4, 'x34': 1, 'x35': 3, 'x41': 3, 'x42': 4, 'x43': 5, 'x44': 2, 'x45': 1, 'x51': 1, 'x52': 5, 'x53': 3, 'x54': 4, 'x55': 2}\n",
      "Time:  0.1215862999999997\n",
      "\n",
      "Apliquemos a procura com retrocesso com forward checking e com mrv\n",
      "Solução: {'x42': 4, 'x35': 3, 'x11': 4, 'x55': 2, 'x23': 1, 'x45': 1, 'x15': 5, 'x25': 4, 'x13': 2, 'x43': 3, 'x12': 1, 'x14': 3, 'x33': 4, 'x53': 5, 'x52': 3, 'x51': 1, 'x54': 4, 'x32': 2, 'x31': 5, 'x22': 5, 'x24': 2, 'x34': 1, 'x41': 2, 'x21': 3, 'x44': 5}\n",
      "Time:  0.11102349999999994\n",
      "\n",
      "Apliquemos a procura com retrocesso com mac\n",
      "Solução: {'x11': 4, 'x12': 1, 'x13': 2, 'x14': 3, 'x15': 5, 'x21': 2, 'x22': 3, 'x23': 1, 'x24': 5, 'x25': 4, 'x31': 1, 'x32': 2, 'x33': 5, 'x34': 4, 'x35': 3, 'x41': 5, 'x42': 4, 'x43': 3, 'x44': 2, 'x45': 1, 'x51': 3, 'x52': 5, 'x53': 4, 'x54': 1, 'x55': 2}\n",
      "Time:  0.39965410000000023\n",
      "\n",
      "Apliquemos a procura com retrocesso com mac e com mrv\n",
      "Solução: {'x11': 4, 'x23': 1, 'x55': 2, 'x35': 3, 'x42': 4, 'x15': 1, 'x25': 4, 'x45': 5, 'x43': 2, 'x44': 1, 'x41': 3, 'x33': 4, 'x21': 2, 'x31': 1, 'x53': 3, 'x52': 1, 'x54': 4, 'x51': 5, 'x13': 5, 'x12': 2, 'x22': 3, 'x34': 2, 'x24': 5, 'x14': 3, 'x32': 5}\n",
      "Time:  0.43039999999999967\n"
     ]
    }
   ],
   "source": [
    "dt3={}\n",
    "p3 = quadrado_latino(5, ['x11 = 4', 'x23 = 1', 'x35 = 3', 'x42 = 4', 'x55 = 2'])\n",
    "print('Apliquemos a procura com retrocesso, simples, sem inferência nem heurísticas')\n",
    "start = timeit.default_timer()\n",
    "r0 = backtracking_search(p3)\n",
    "stop = timeit.default_timer()\n",
    "time0 = stop-start\n",
    "print('Solução:',r0)\n",
    "print('Time: ', time0)\n",
    "dt3[\"Procura com retrocesso, simples, sem inferência nem heurísticas\"]=time0\n",
    "\n",
    "print(\"\\nRetrocesso com forward checking com pré-filtragem por AC3\")\n",
    "p3 = quadrado_latino(5, ['x11 = 4', 'x23 = 1', 'x35 = 3', 'x42 = 4', 'x55 = 2'])\n",
    "start = timeit.default_timer()\n",
    "p_ac3 = AC3(p3)\n",
    "r1 = backtracking_search(p_ac3,inference = forward_checking)\n",
    "stop = timeit.default_timer()\n",
    "time1 = stop-start\n",
    "print('Solução:',r1)\n",
    "print('Time: ', time1)\n",
    "dt3[\"Procura com retrocesso com forward checking com pré-filtragem por AC3\"]=time1\n",
    "\n",
    "print('\\nApliquemos a procura com retrocesso com a heurística da variável com menor domínio (mrv):')\n",
    "p3 = quadrado_latino(5, ['x11 = 4', 'x23 = 1', 'x35 = 3', 'x42 = 4', 'x55 = 2'])\n",
    "start = timeit.default_timer()\n",
    "r2 = backtracking_search(p3,select_unassigned_variable = mrv)\n",
    "stop = timeit.default_timer()\n",
    "time2 = stop-start\n",
    "print('Solução:',r2)\n",
    "print('Time: ', time2)\n",
    "dt3[\"Procura com retrocesso com a heurística da variável com menor domínio (mrv)\"]=time2\n",
    "\n",
    "print('\\nApliquemos a procura com retrocesso com forward checking e sem heurísticas')\n",
    "p3 = quadrado_latino(5, ['x11 = 4', 'x23 = 1', 'x35 = 3', 'x42 = 4', 'x55 = 2'])\n",
    "start = timeit.default_timer()\n",
    "r3 = backtracking_search(p3,inference=forward_checking)\n",
    "stop = timeit.default_timer()\n",
    "time3 = stop-start\n",
    "print('Solução:',r3)\n",
    "print('Time: ', time3)\n",
    "dt3[\"Procura com retrocesso com forward checking e sem heurísticas\"]=time3\n",
    "\n",
    "print('\\nApliquemos a procura com retrocesso com forward checking e com mrv')\n",
    "p3 = quadrado_latino(5, ['x11 = 4', 'x23 = 1', 'x35 = 3', 'x42 = 4', 'x55 = 2'])\n",
    "start = timeit.default_timer()\n",
    "r4 = backtracking_search(p3,select_unassigned_variable = mrv,inference=forward_checking)\n",
    "stop = timeit.default_timer()\n",
    "time4 = stop-start\n",
    "print('Solução:',r4)\n",
    "print('Time: ', time4)\n",
    "dt3[\"Procura com retrocesso com forward checking e com mrv\"]=time4\n",
    "\n",
    "print('\\nApliquemos a procura com retrocesso com mac')\n",
    "p3 = quadrado_latino(5, ['x11 = 4', 'x23 = 1', 'x35 = 3', 'x42 = 4', 'x55 = 2'])\n",
    "start = timeit.default_timer()\n",
    "r5 = backtracking_search(p3,inference=mac)\n",
    "stop = timeit.default_timer()\n",
    "time5 = stop-start\n",
    "print('Solução:',r5)\n",
    "print('Time: ', time5)\n",
    "dt3[\"Procura com retrocesso com mac\"]=time5\n",
    "\n",
    "print('\\nApliquemos a procura com retrocesso com mac e com mrv')\n",
    "p3 = quadrado_latino(5, ['x11 = 4', 'x23 = 1', 'x35 = 3', 'x42 = 4', 'x55 = 2'])\n",
    "start = timeit.default_timer()\n",
    "r6 = backtracking_search(p3,select_unassigned_variable = mrv,inference=mac)\n",
    "stop = timeit.default_timer()\n",
    "time6 = stop-start\n",
    "print('Solução:',r6)\n",
    "print('Time: ', time6)\n",
    "dt3[\"Procura com retrocesso com mac e com mrv\"]=time6"
   ]
  },
  {
   "cell_type": "markdown",
   "metadata": {},
   "source": [
    "Assim sendo ordenado de forma crescente pelo tempo gasto a resolver o problema:"
   ]
  },
  {
   "cell_type": "code",
   "execution_count": 20,
   "metadata": {},
   "outputs": [
    {
     "name": "stdout",
     "output_type": "stream",
     "text": [
      "Procura com retrocesso com forward checking e com mrv 0.11102349999999994\n",
      "Procura com retrocesso com forward checking e sem heurísticas 0.1215862999999997\n",
      "Procura com retrocesso com forward checking com pré-filtragem por AC3 0.3162351000000001\n",
      "Procura com retrocesso com mac 0.39965410000000023\n",
      "Procura com retrocesso, simples, sem inferência nem heurísticas 0.4194906999999999\n",
      "Procura com retrocesso com mac e com mrv 0.43039999999999967\n",
      "Procura com retrocesso com a heurística da variável com menor domínio (mrv) 0.9115991000000001\n"
     ]
    }
   ],
   "source": [
    "for item in sorted(dt3, key = dt3.get):\n",
    "    print (item, dt3[item])"
   ]
  },
  {
   "cell_type": "markdown",
   "metadata": {},
   "source": [
    "## Visualização do problema"
   ]
  },
  {
   "cell_type": "code",
   "execution_count": 21,
   "metadata": {},
   "outputs": [],
   "source": [
    "# Implemente uma função que permita visualizar o quadrado latino, antes e depois de resolvido.\n",
    "def display_quadrado_latino(n, lista_entradas):\n",
    "    variaveis = [('x' + str(i) + str(j)) for i in range(1,n+1) for j in range(1,n+1)]\n",
    "    print('Quadrado latino antes de estar resolvido')\n",
    "    barra = '----' * n\n",
    "    print( ' '+barra[:-1] +' ')\n",
    "    for v in variaveis:\n",
    "        if variaveis.index(v)%n==0:\n",
    "            print('| ',end='')\n",
    "        conteudo = ' '\n",
    "        separacao = ' | '\n",
    "        for restricoes in lista_entradas:\n",
    "            if v in restricoes.split()[0]:\n",
    "                conteudo = restricoes.split()[2]\n",
    "        print(conteudo, end = separacao)\n",
    "        if variaveis.index(v)%n==n-1:\n",
    "            linha = ''\n",
    "            for c in range(1, n+1):\n",
    "                adicionar_linha = '----'\n",
    "                linha += adicionar_linha\n",
    "            print()\n",
    "            print(' ' + linha[:-1] + ' ')\n",
    "    r = backtracking_search(quadrado_latino(n, lista_entradas))\n",
    "    print('Quadrado latino depois de estar resolvido')\n",
    "    barra = '----' * n\n",
    "    print( ' '+barra[:-1] +' ')\n",
    "    for v in variaveis:\n",
    "        if variaveis.index(v)%n==0:\n",
    "            print('| ',end='')\n",
    "        conteudo = r[v]\n",
    "        separacao = ' | '\n",
    "        print(conteudo, end = separacao)\n",
    "        if variaveis.index(v)%n==n-1:\n",
    "            linha = ''\n",
    "            for c in range(1, n+1):\n",
    "                adicionar_linha = '----'\n",
    "                linha += adicionar_linha\n",
    "            print()\n",
    "            print(' ' + linha[:-1] + ' ')"
   ]
  },
  {
   "cell_type": "code",
   "execution_count": 22,
   "metadata": {},
   "outputs": [
    {
     "name": "stdout",
     "output_type": "stream",
     "text": [
      "Quadrado latino antes de estar resolvido\n",
      " --------------- \n",
      "| 2 |   |   |   | \n",
      " --------------- \n",
      "|   |   |   |   | \n",
      " --------------- \n",
      "| 3 | 1 |   |   | \n",
      " --------------- \n",
      "| 1 | 2 | 3 |   | \n",
      " --------------- \n",
      "Quadrado latino depois de estar resolvido\n",
      " --------------- \n",
      "| 2 | 4 | 1 | 3 | \n",
      " --------------- \n",
      "| 4 | 3 | 2 | 1 | \n",
      " --------------- \n",
      "| 3 | 1 | 4 | 2 | \n",
      " --------------- \n",
      "| 1 | 2 | 3 | 4 | \n",
      " --------------- \n"
     ]
    }
   ],
   "source": [
    "display_quadrado_latino(4, ['x11 = 2', 'x31 = 3', 'x32 = 1', 'x41 = 1', 'x42 = 2', 'x43 = 3'])"
   ]
  },
  {
   "cell_type": "code",
   "execution_count": 23,
   "metadata": {},
   "outputs": [
    {
     "name": "stdout",
     "output_type": "stream",
     "text": [
      "Quadrado latino antes de estar resolvido\n",
      " ------------------- \n",
      "| 4 |   |   |   |   | \n",
      " ------------------- \n",
      "|   |   | 1 |   |   | \n",
      " ------------------- \n",
      "|   |   |   |   | 3 | \n",
      " ------------------- \n",
      "|   | 4 |   |   |   | \n",
      " ------------------- \n",
      "|   |   |   |   | 2 | \n",
      " ------------------- \n",
      "Quadrado latino depois de estar resolvido\n",
      " ------------------- \n",
      "| 4 | 1 | 2 | 3 | 5 | \n",
      " ------------------- \n",
      "| 2 | 3 | 1 | 5 | 4 | \n",
      " ------------------- \n",
      "| 1 | 2 | 5 | 4 | 3 | \n",
      " ------------------- \n",
      "| 5 | 4 | 3 | 2 | 1 | \n",
      " ------------------- \n",
      "| 3 | 5 | 4 | 1 | 2 | \n",
      " ------------------- \n"
     ]
    }
   ],
   "source": [
    "display_quadrado_latino(5, ['x11 = 4', 'x23 = 1', 'x35 = 3', 'x42 = 4', 'x55 = 2'])"
   ]
  },
  {
   "cell_type": "markdown",
   "metadata": {},
   "source": [
    "## Criação do problema Futoshiki *5x5*\n",
    "\n",
    "Mostrem que o código está a funcionar, construindo um problema de Futoshiki *5x5*, imprimindo as variáveis, domínios iniciais, e vizinhos. Adicione os comentários necessários. Utilize o [link](https://www.futoshiki.org/) para gerar puzzles e validar a implementação."
   ]
  },
  {
   "cell_type": "code",
   "execution_count": 24,
   "metadata": {},
   "outputs": [],
   "source": [
    "p4 = futoshiki(5, ['x15 = 3', 'x24 = 4'], ['x11 > x12', 'x14 > x24', 'x15 < x25', 'x22 > x23', 'x31 < x32', 'x32 < x33', 'x43 < x53', 'x54 > x44', 'x55 > x45'])"
   ]
  },
  {
   "cell_type": "code",
   "execution_count": 25,
   "metadata": {},
   "outputs": [
    {
     "name": "stdout",
     "output_type": "stream",
     "text": [
      "Variáveis =  ['x11', 'x12', 'x13', 'x14', 'x15', 'x21', 'x22', 'x23', 'x24', 'x25', 'x31', 'x32', 'x33', 'x34', 'x35', 'x41', 'x42', 'x43', 'x44', 'x45', 'x51', 'x52', 'x53', 'x54', 'x55']\n",
      "Domínios =  {'x11': [1, 2, 3, 4, 5], 'x12': [1, 2, 3, 4, 5], 'x13': [1, 2, 3, 4, 5], 'x14': [1, 2, 3, 4, 5], 'x15': [3], 'x21': [1, 2, 3, 4, 5], 'x22': [1, 2, 3, 4, 5], 'x23': [1, 2, 3, 4, 5], 'x24': [4], 'x25': [1, 2, 3, 4, 5], 'x31': [1, 2, 3, 4, 5], 'x32': [1, 2, 3, 4, 5], 'x33': [1, 2, 3, 4, 5], 'x34': [1, 2, 3, 4, 5], 'x35': [1, 2, 3, 4, 5], 'x41': [1, 2, 3, 4, 5], 'x42': [1, 2, 3, 4, 5], 'x43': [1, 2, 3, 4, 5], 'x44': [1, 2, 3, 4, 5], 'x45': [1, 2, 3, 4, 5], 'x51': [1, 2, 3, 4, 5], 'x52': [1, 2, 3, 4, 5], 'x53': [1, 2, 3, 4, 5], 'x54': [1, 2, 3, 4, 5], 'x55': [1, 2, 3, 4, 5]}\n",
      "Vizinhos =  defaultdict(<class 'list'>, {'x11': ['x21', 'x12', 'x31', 'x13', 'x41', 'x14', 'x51', 'x15'], 'x21': ['x11', 'x22', 'x31', 'x23', 'x41', 'x24', 'x51', 'x25'], 'x12': ['x11', 'x22', 'x32', 'x13', 'x42', 'x14', 'x52', 'x15'], 'x31': ['x11', 'x21', 'x32', 'x33', 'x41', 'x34', 'x51', 'x35'], 'x13': ['x11', 'x12', 'x23', 'x33', 'x43', 'x14', 'x53', 'x15'], 'x41': ['x11', 'x21', 'x31', 'x42', 'x43', 'x44', 'x51', 'x45'], 'x14': ['x11', 'x12', 'x13', 'x24', 'x34', 'x44', 'x54', 'x15'], 'x51': ['x11', 'x21', 'x31', 'x41', 'x52', 'x53', 'x54', 'x55'], 'x15': ['x11', 'x12', 'x13', 'x14', 'x25', 'x35', 'x45', 'x55'], 'x22': ['x12', 'x21', 'x32', 'x23', 'x42', 'x24', 'x52', 'x25'], 'x32': ['x12', 'x22', 'x31', 'x33', 'x42', 'x34', 'x52', 'x35'], 'x42': ['x12', 'x22', 'x32', 'x41', 'x43', 'x44', 'x52', 'x45'], 'x52': ['x12', 'x22', 'x32', 'x42', 'x51', 'x53', 'x54', 'x55'], 'x23': ['x13', 'x21', 'x22', 'x33', 'x43', 'x24', 'x53', 'x25'], 'x33': ['x13', 'x23', 'x31', 'x32', 'x43', 'x34', 'x53', 'x35'], 'x43': ['x13', 'x23', 'x33', 'x41', 'x42', 'x44', 'x53', 'x45'], 'x53': ['x13', 'x23', 'x33', 'x43', 'x51', 'x52', 'x54', 'x55'], 'x24': ['x14', 'x21', 'x22', 'x23', 'x34', 'x44', 'x54', 'x25'], 'x34': ['x14', 'x24', 'x31', 'x32', 'x33', 'x44', 'x54', 'x35'], 'x44': ['x14', 'x24', 'x34', 'x41', 'x42', 'x43', 'x54', 'x45'], 'x54': ['x14', 'x24', 'x34', 'x44', 'x51', 'x52', 'x53', 'x55'], 'x25': ['x15', 'x21', 'x22', 'x23', 'x24', 'x35', 'x45', 'x55'], 'x35': ['x15', 'x25', 'x31', 'x32', 'x33', 'x34', 'x45', 'x55'], 'x45': ['x15', 'x25', 'x35', 'x41', 'x42', 'x43', 'x44', 'x55'], 'x55': ['x15', 'x25', 'x35', 'x45', 'x51', 'x52', 'x53', 'x54']})\n"
     ]
    }
   ],
   "source": [
    "print(\"Variáveis = \", p4.variables)\n",
    "print(\"Domínios = \", p4.domains)\n",
    "print(\"Vizinhos = \", p4.neighbors)"
   ]
  },
  {
   "cell_type": "code",
   "execution_count": 26,
   "metadata": {},
   "outputs": [
    {
     "name": "stdout",
     "output_type": "stream",
     "text": [
      "Apliquemos a procura com retrocesso, simples, sem inferência nem heurísticas\n",
      "Solução: {'x11': 4, 'x12': 1, 'x13': 2, 'x14': 5, 'x15': 3, 'x21': 3, 'x22': 2, 'x23': 1, 'x24': 4, 'x25': 5, 'x31': 2, 'x32': 3, 'x33': 5, 'x34': 1, 'x35': 4, 'x41': 5, 'x42': 4, 'x43': 3, 'x44': 2, 'x45': 1, 'x51': 1, 'x52': 5, 'x53': 4, 'x54': 3, 'x55': 2}\n",
      "Time:  2.7653461999999998\n",
      "\n",
      "Retrocesso com forward checking com pré-filtragem por AC3\n",
      "Solução: {'x11': 4, 'x12': 1, 'x13': 2, 'x14': 5, 'x15': 3, 'x21': 3, 'x22': 2, 'x23': 1, 'x24': 4, 'x25': 5, 'x31': 2, 'x32': 3, 'x33': 5, 'x34': 1, 'x35': 4, 'x41': 5, 'x42': 4, 'x43': 3, 'x44': 2, 'x45': 1, 'x51': 1, 'x52': 5, 'x53': 4, 'x54': 3, 'x55': 2}\n",
      "Time:  0.6982347000000004\n",
      "\n",
      "Apliquemos a procura com retrocesso com a heurística da variável com menor domínio (mrv):\n",
      "Solução: {'x24': 4, 'x15': 3, 'x42': 4, 'x54': 3, 'x33': 5, 'x55': 2, 'x32': 3, 'x25': 5, 'x35': 4, 'x44': 2, 'x51': 1, 'x23': 1, 'x52': 5, 'x22': 2, 'x11': 4, 'x41': 5, 'x13': 2, 'x21': 3, 'x43': 3, 'x14': 5, 'x45': 1, 'x12': 1, 'x53': 4, 'x31': 2, 'x34': 1}\n",
      "Time:  464.0683047\n",
      "\n",
      "Apliquemos a procura com retrocesso com forward checking e sem heurísticas\n",
      "Solução: {'x11': 4, 'x12': 1, 'x13': 2, 'x14': 5, 'x15': 3, 'x21': 3, 'x22': 2, 'x23': 1, 'x24': 4, 'x25': 5, 'x31': 2, 'x32': 3, 'x33': 5, 'x34': 1, 'x35': 4, 'x41': 5, 'x42': 4, 'x43': 3, 'x44': 2, 'x45': 1, 'x51': 1, 'x52': 5, 'x53': 4, 'x54': 3, 'x55': 2}\n",
      "Time:  0.9041131000000178\n",
      "\n",
      "Apliquemos a procura com retrocesso com forward checking e com mrv\n",
      "Solução: {'x24': 4, 'x14': 5, 'x15': 3, 'x25': 5, 'x45': 1, 'x44': 2, 'x54': 3, 'x34': 1, 'x35': 4, 'x55': 2, 'x41': 5, 'x31': 2, 'x43': 3, 'x33': 5, 'x53': 4, 'x32': 3, 'x51': 1, 'x52': 5, 'x11': 4, 'x21': 3, 'x42': 4, 'x22': 2, 'x23': 1, 'x12': 1, 'x13': 2}\n",
      "Time:  0.3314267000000086\n",
      "\n",
      "Apliquemos a procura com retrocesso com mac\n",
      "Solução: {'x11': 4, 'x12': 1, 'x13': 2, 'x14': 5, 'x15': 3, 'x21': 3, 'x22': 2, 'x23': 1, 'x24': 4, 'x25': 5, 'x31': 2, 'x32': 3, 'x33': 5, 'x34': 1, 'x35': 4, 'x41': 5, 'x42': 4, 'x43': 3, 'x44': 2, 'x45': 1, 'x51': 1, 'x52': 5, 'x53': 4, 'x54': 3, 'x55': 2}\n",
      "Time:  1.3256474000000367\n",
      "\n",
      "Apliquemos a procura com retrocesso com mac e com mrv\n",
      "Solução: {'x15': 3, 'x24': 4, 'x25': 5, 'x14': 5, 'x12': 1, 'x11': 4, 'x23': 1, 'x13': 2, 'x53': 4, 'x35': 4, 'x51': 1, 'x44': 2, 'x34': 1, 'x43': 3, 'x54': 3, 'x55': 2, 'x45': 1, 'x22': 2, 'x42': 4, 'x21': 3, 'x32': 3, 'x41': 5, 'x31': 2, 'x52': 5, 'x33': 5}\n",
      "Time:  0.913449700000001\n"
     ]
    }
   ],
   "source": [
    "dt4={}\n",
    "p4 = futoshiki(5, ['x15 = 3', 'x24 = 4'], ['x11 > x12', 'x14 > x24', 'x15 < x25', 'x22 > x23', 'x31 < x32', 'x32 < x33', 'x43 < x53', 'x54 > x44', 'x55 > x45'])\n",
    "print('Apliquemos a procura com retrocesso, simples, sem inferência nem heurísticas')\n",
    "start = timeit.default_timer()\n",
    "r0 = backtracking_search(p4)\n",
    "stop = timeit.default_timer()\n",
    "time0 = stop-start\n",
    "print('Solução:',r0)\n",
    "print('Time: ', time0)\n",
    "dt4[\"Procura com retrocesso, simples, sem inferência nem heurísticas\"]=time0\n",
    "\n",
    "print(\"\\nRetrocesso com forward checking com pré-filtragem por AC3\")\n",
    "p4 = futoshiki(5, ['x15 = 3', 'x24 = 4'], ['x11 > x12', 'x14 > x24', 'x15 < x25', 'x22 > x23', 'x31 < x32', 'x32 < x33', 'x43 < x53', 'x54 > x44', 'x55 > x45'])\n",
    "start = timeit.default_timer()\n",
    "p_ac3 = AC3(p4)\n",
    "r1 = backtracking_search(p_ac3,inference = forward_checking)\n",
    "stop = timeit.default_timer()\n",
    "time1 = stop-start\n",
    "print('Solução:',r1)\n",
    "print('Time: ', time1)\n",
    "dt4[\"Procura com retrocesso com forward checking com pré-filtragem por AC3\"]=time1\n",
    "\n",
    "print('\\nApliquemos a procura com retrocesso com a heurística da variável com menor domínio (mrv):')\n",
    "p4 = futoshiki(5, ['x15 = 3', 'x24 = 4'], ['x11 > x12', 'x14 > x24', 'x15 < x25', 'x22 > x23', 'x31 < x32', 'x32 < x33', 'x43 < x53', 'x54 > x44', 'x55 > x45'])\n",
    "start = timeit.default_timer()\n",
    "r2 = backtracking_search(p4,select_unassigned_variable = mrv)\n",
    "stop = timeit.default_timer()\n",
    "time2 = stop-start\n",
    "print('Solução:',r2)\n",
    "print('Time: ', time2)\n",
    "dt4[\"Procura com retrocesso com a heurística da variável com menor domínio (mrv)\"]=time2\n",
    "\n",
    "print('\\nApliquemos a procura com retrocesso com forward checking e sem heurísticas')\n",
    "p4 = futoshiki(5, ['x15 = 3', 'x24 = 4'], ['x11 > x12', 'x14 > x24', 'x15 < x25', 'x22 > x23', 'x31 < x32', 'x32 < x33', 'x43 < x53', 'x54 > x44', 'x55 > x45'])\n",
    "start = timeit.default_timer()\n",
    "r3 = backtracking_search(p4,inference=forward_checking)\n",
    "stop = timeit.default_timer()\n",
    "time3 = stop-start\n",
    "print('Solução:',r3)\n",
    "print('Time: ', time3)\n",
    "dt4[\"Procura com retrocesso com forward checking e sem heurísticas\"]=time3\n",
    "\n",
    "print('\\nApliquemos a procura com retrocesso com forward checking e com mrv')\n",
    "p4 = futoshiki(5, ['x15 = 3', 'x24 = 4'], ['x11 > x12', 'x14 > x24', 'x15 < x25', 'x22 > x23', 'x31 < x32', 'x32 < x33', 'x43 < x53', 'x54 > x44', 'x55 > x45'])\n",
    "start = timeit.default_timer()\n",
    "r4 = backtracking_search(p4,select_unassigned_variable = mrv,inference=forward_checking)\n",
    "stop = timeit.default_timer()\n",
    "time4 = stop-start\n",
    "print('Solução:',r4)\n",
    "print('Time: ', time4)\n",
    "dt4[\"Procura com retrocesso com forward checking e com mrv\"]=time4\n",
    "\n",
    "print('\\nApliquemos a procura com retrocesso com mac')\n",
    "p4 = futoshiki(5, ['x15 = 3', 'x24 = 4'], ['x11 > x12', 'x14 > x24', 'x15 < x25', 'x22 > x23', 'x31 < x32', 'x32 < x33', 'x43 < x53', 'x54 > x44', 'x55 > x45'])\n",
    "start = timeit.default_timer()\n",
    "r5 = backtracking_search(p4,inference=mac)\n",
    "stop = timeit.default_timer()\n",
    "time5 = stop-start\n",
    "print('Solução:',r5)\n",
    "print('Time: ', time5)\n",
    "dt4[\"Procura com retrocesso com mac\"]=time5\n",
    "\n",
    "print('\\nApliquemos a procura com retrocesso com mac e com mrv')\n",
    "p4 = futoshiki(5, ['x15 = 3', 'x24 = 4'], ['x11 > x12', 'x14 > x24', 'x15 < x25', 'x22 > x23', 'x31 < x32', 'x32 < x33', 'x43 < x53', 'x54 > x44', 'x55 > x45'])\n",
    "start = timeit.default_timer()\n",
    "r6 = backtracking_search(p4,select_unassigned_variable = mrv,inference=mac)\n",
    "stop = timeit.default_timer()\n",
    "time6 = stop-start\n",
    "print('Solução:',r6)\n",
    "print('Time: ', time6)\n",
    "dt4[\"Procura com retrocesso com mac e com mrv\"]=time6"
   ]
  },
  {
   "cell_type": "code",
   "execution_count": 27,
   "metadata": {},
   "outputs": [
    {
     "name": "stdout",
     "output_type": "stream",
     "text": [
      "Procura com retrocesso com forward checking e com mrv 0.3314267000000086\n",
      "Procura com retrocesso com forward checking com pré-filtragem por AC3 0.6982347000000004\n",
      "Procura com retrocesso com forward checking e sem heurísticas 0.9041131000000178\n",
      "Procura com retrocesso com mac e com mrv 0.913449700000001\n",
      "Procura com retrocesso com mac 1.3256474000000367\n",
      "Procura com retrocesso, simples, sem inferência nem heurísticas 2.7653461999999998\n",
      "Procura com retrocesso com a heurística da variável com menor domínio (mrv) 464.0683047\n"
     ]
    }
   ],
   "source": [
    "for item in sorted(dt4, key = dt4.get):\n",
    "    print (item, dt4[item])"
   ]
  },
  {
   "cell_type": "markdown",
   "metadata": {},
   "source": [
    "#### Futoshiki *4x4*"
   ]
  },
  {
   "cell_type": "code",
   "execution_count": 28,
   "metadata": {},
   "outputs": [
    {
     "name": "stdout",
     "output_type": "stream",
     "text": [
      "Apliquemos a procura com retrocesso, simples, sem inferência nem heurísticas\n",
      "Solução: {'x11': 4, 'x12': 1, 'x13': 2, 'x14': 3, 'x21': 3, 'x22': 2, 'x23': 1, 'x24': 4, 'x31': 2, 'x32': 4, 'x33': 3, 'x34': 1, 'x41': 1, 'x42': 3, 'x43': 4, 'x44': 2}\n",
      "Time:  0.18788090000003876\n",
      "\n",
      "Retrocesso com forward checking com pré-filtragem por AC3\n",
      "Solução: {'x11': 4, 'x12': 1, 'x13': 2, 'x14': 3, 'x21': 3, 'x22': 2, 'x23': 1, 'x24': 4, 'x31': 2, 'x32': 4, 'x33': 3, 'x34': 1, 'x41': 1, 'x42': 3, 'x43': 4, 'x44': 2}\n",
      "Time:  0.1491345000000024\n",
      "\n",
      "Apliquemos a procura com retrocesso com a heurística da variável com menor domínio (mrv):\n",
      "Solução: {'x41': 1, 'x14': 3, 'x32': 4, 'x11': 4, 'x23': 1, 'x42': 3, 'x24': 4, 'x44': 2, 'x12': 1, 'x13': 2, 'x21': 3, 'x33': 3, 'x31': 2, 'x34': 1, 'x43': 4, 'x22': 2}\n",
      "Time:  1.942036900000005\n",
      "\n",
      "Apliquemos a procura com retrocesso com forward checking e sem heurísticas\n",
      "Solução: {'x11': 4, 'x12': 1, 'x13': 2, 'x14': 3, 'x21': 3, 'x22': 2, 'x23': 1, 'x24': 4, 'x31': 2, 'x32': 4, 'x33': 3, 'x34': 1, 'x41': 1, 'x42': 3, 'x43': 4, 'x44': 2}\n",
      "Time:  0.11386970000000929\n",
      "\n",
      "Apliquemos a procura com retrocesso com forward checking e com mrv\n",
      "Solução: {'x41': 1, 'x44': 2, 'x43': 4, 'x42': 3, 'x23': 1, 'x13': 2, 'x12': 1, 'x33': 3, 'x32': 4, 'x31': 2, 'x22': 2, 'x34': 1, 'x24': 4, 'x14': 3, 'x11': 4, 'x21': 3}\n",
      "Time:  0.0368773999999803\n",
      "\n",
      "Apliquemos a procura com retrocesso com mac\n",
      "Solução: {'x11': 4, 'x12': 1, 'x13': 2, 'x14': 3, 'x21': 3, 'x22': 2, 'x23': 1, 'x24': 4, 'x31': 2, 'x32': 4, 'x33': 3, 'x34': 1, 'x41': 1, 'x42': 3, 'x43': 4, 'x44': 2}\n",
      "Time:  0.309887099999969\n",
      "\n",
      "Apliquemos a procura com retrocesso com mac e com mrv\n",
      "Solução: {'x13': 2, 'x12': 1, 'x14': 3, 'x11': 4, 'x42': 3, 'x34': 1, 'x31': 2, 'x41': 1, 'x44': 2, 'x22': 2, 'x33': 3, 'x43': 4, 'x32': 4, 'x21': 3, 'x23': 1, 'x24': 4}\n",
      "Time:  0.11752930000000106\n"
     ]
    }
   ],
   "source": [
    "dt5={}\n",
    "p5 = futoshiki(4, [], ['x12 < x13', 'x11 > x21', 'x21 > x22', 'x23 < x33', 'x31 > x41', 'x42 < x43'])\n",
    "print('Apliquemos a procura com retrocesso, simples, sem inferência nem heurísticas')\n",
    "start = timeit.default_timer()\n",
    "r0 = backtracking_search(p5)\n",
    "stop = timeit.default_timer()\n",
    "time0 = stop-start\n",
    "print('Solução:',r0)\n",
    "print('Time: ', time0)\n",
    "dt5[\"Procura com retrocesso, simples, sem inferência nem heurísticas\"]=time0\n",
    "\n",
    "print(\"\\nRetrocesso com forward checking com pré-filtragem por AC3\")\n",
    "p5 = futoshiki(4, [], ['x12 < x13', 'x11 > x21', 'x21 > x22', 'x23 < x33', 'x31 > x41', 'x42 < x43'])\n",
    "start = timeit.default_timer()\n",
    "p_ac3 = AC3(p5)\n",
    "r1 = backtracking_search(p_ac3,inference = forward_checking)\n",
    "stop = timeit.default_timer()\n",
    "time1 = stop-start\n",
    "print('Solução:',r1)\n",
    "print('Time: ', time1)\n",
    "dt5[\"Procura com retrocesso com forward checking com pré-filtragem por AC3\"]=time1\n",
    "\n",
    "print('\\nApliquemos a procura com retrocesso com a heurística da variável com menor domínio (mrv):')\n",
    "p5 = futoshiki(4, [], ['x12 < x13', 'x11 > x21', 'x21 > x22', 'x23 < x33', 'x31 > x41', 'x42 < x43'])\n",
    "start = timeit.default_timer()\n",
    "r2 = backtracking_search(p5,select_unassigned_variable = mrv)\n",
    "stop = timeit.default_timer()\n",
    "time2 = stop-start\n",
    "print('Solução:',r2)\n",
    "print('Time: ', time2)\n",
    "dt5[\"Procura com retrocesso com a heurística da variável com menor domínio (mrv)\"]=time2\n",
    "\n",
    "print('\\nApliquemos a procura com retrocesso com forward checking e sem heurísticas')\n",
    "p5 = futoshiki(4, [], ['x12 < x13', 'x11 > x21', 'x21 > x22', 'x23 < x33', 'x31 > x41', 'x42 < x43'])\n",
    "start = timeit.default_timer()\n",
    "r3 = backtracking_search(p5,inference=forward_checking)\n",
    "stop = timeit.default_timer()\n",
    "time3 = stop-start\n",
    "print('Solução:',r3)\n",
    "print('Time: ', time3)\n",
    "dt5[\"Procura com retrocesso com forward checking e sem heurísticas\"]=time3\n",
    "\n",
    "print('\\nApliquemos a procura com retrocesso com forward checking e com mrv')\n",
    "p5 = futoshiki(4, [], ['x12 < x13', 'x11 > x21', 'x21 > x22', 'x23 < x33', 'x31 > x41', 'x42 < x43'])\n",
    "start = timeit.default_timer()\n",
    "r4 = backtracking_search(p5,select_unassigned_variable = mrv,inference=forward_checking)\n",
    "stop = timeit.default_timer()\n",
    "time4 = stop-start\n",
    "print('Solução:',r4)\n",
    "print('Time: ', time4)\n",
    "dt5[\"Procura com retrocesso com forward checking e com mrv\"]=time4\n",
    "\n",
    "print('\\nApliquemos a procura com retrocesso com mac')\n",
    "p5 = futoshiki(4, [], ['x12 < x13', 'x11 > x21', 'x21 > x22', 'x23 < x33', 'x31 > x41', 'x42 < x43'])\n",
    "start = timeit.default_timer()\n",
    "r5 = backtracking_search(p5,inference=mac)\n",
    "stop = timeit.default_timer()\n",
    "time5 = stop-start\n",
    "print('Solução:',r5)\n",
    "print('Time: ', time5)\n",
    "dt5[\"Procura com retrocesso com mac\"]=time5\n",
    "\n",
    "print('\\nApliquemos a procura com retrocesso com mac e com mrv')\n",
    "p5 = futoshiki(4, [], ['x12 < x13', 'x11 > x21', 'x21 > x22', 'x23 < x33', 'x31 > x41', 'x42 < x43'])\n",
    "start = timeit.default_timer()\n",
    "r6 = backtracking_search(p5,select_unassigned_variable = mrv,inference=mac)\n",
    "stop = timeit.default_timer()\n",
    "time6 = stop-start\n",
    "print('Solução:',r6)\n",
    "print('Time: ', time6)\n",
    "dt5[\"Procura com retrocesso com mac e com mrv\"]=time6"
   ]
  },
  {
   "cell_type": "code",
   "execution_count": 29,
   "metadata": {},
   "outputs": [
    {
     "name": "stdout",
     "output_type": "stream",
     "text": [
      "Procura com retrocesso com forward checking e com mrv 0.0368773999999803\n",
      "Procura com retrocesso com forward checking e sem heurísticas 0.11386970000000929\n",
      "Procura com retrocesso com mac e com mrv 0.11752930000000106\n",
      "Procura com retrocesso com forward checking com pré-filtragem por AC3 0.1491345000000024\n",
      "Procura com retrocesso, simples, sem inferência nem heurísticas 0.18788090000003876\n",
      "Procura com retrocesso com mac 0.309887099999969\n",
      "Procura com retrocesso com a heurística da variável com menor domínio (mrv) 1.942036900000005\n"
     ]
    }
   ],
   "source": [
    "for item in sorted(dt5, key = dt5.get):\n",
    "    print (item, dt5[item])"
   ]
  },
  {
   "cell_type": "markdown",
   "metadata": {},
   "source": [
    "Resolva o problema com o backtracking sem inferencia, com inferencia, e com uma heurística. Até que dimensão consegue resolver o problema em menos de 1 minuto?"
   ]
  },
  {
   "cell_type": "code",
   "execution_count": 30,
   "metadata": {},
   "outputs": [
    {
     "name": "stdout",
     "output_type": "stream",
     "text": [
      "\n",
      " \n",
      "Vamos resolver o problema de dimensao 4\n",
      "Apliquemos a procura com retrocesso, simples, sem inferência nem heurísticas\n",
      "Solução: {'x11': 4, 'x12': 1, 'x13': 2, 'x14': 3, 'x21': 1, 'x22': 3, 'x23': 4, 'x24': 2, 'x31': 3, 'x32': 2, 'x33': 1, 'x34': 4, 'x41': 2, 'x42': 4, 'x43': 3, 'x44': 1}\n",
      "Time:  0.05617419999998674\n",
      "\n",
      "Apliquemos a procura com retrocesso com forward checking e sem heurísticas\n",
      "Solução: {'x11': 4, 'x12': 1, 'x13': 2, 'x14': 3, 'x21': 1, 'x22': 3, 'x23': 4, 'x24': 2, 'x31': 3, 'x32': 2, 'x33': 1, 'x34': 4, 'x41': 2, 'x42': 4, 'x43': 3, 'x44': 1}\n",
      "Time:  0.04756609999998318\n",
      "\n",
      "Apliquemos a procura com retrocesso com a heurística da variável com menor domínio (mrv):\n",
      "Solução: {'x44': 1, 'x11': 4, 'x42': 4, 'x34': 4, 'x13': 2, 'x24': 2, 'x43': 3, 'x41': 2, 'x23': 4, 'x33': 1, 'x21': 1, 'x32': 2, 'x14': 3, 'x22': 3, 'x31': 3, 'x12': 1}\n",
      "Time:  0.5660715999999866\n",
      "\n",
      " \n",
      "Vamos resolver o problema de dimensao 5\n",
      "Apliquemos a procura com retrocesso, simples, sem inferência nem heurísticas\n",
      "Solução: {'x11': 4, 'x12': 1, 'x13': 2, 'x14': 5, 'x15': 3, 'x21': 3, 'x22': 2, 'x23': 1, 'x24': 4, 'x25': 5, 'x31': 2, 'x32': 3, 'x33': 5, 'x34': 1, 'x35': 4, 'x41': 5, 'x42': 4, 'x43': 3, 'x44': 2, 'x45': 1, 'x51': 1, 'x52': 5, 'x53': 4, 'x54': 3, 'x55': 2}\n",
      "Time:  2.9250377000000185\n",
      "\n",
      "Apliquemos a procura com retrocesso com forward checking e sem heurísticas\n",
      "Solução: {'x11': 4, 'x12': 1, 'x13': 2, 'x14': 5, 'x15': 3, 'x21': 3, 'x22': 2, 'x23': 1, 'x24': 4, 'x25': 5, 'x31': 2, 'x32': 3, 'x33': 5, 'x34': 1, 'x35': 4, 'x41': 5, 'x42': 4, 'x43': 3, 'x44': 2, 'x45': 1, 'x51': 1, 'x52': 5, 'x53': 4, 'x54': 3, 'x55': 2}\n",
      "Time:  0.93384420000001\n",
      "\n",
      "Apliquemos a procura com retrocesso com a heurística da variável com menor domínio (mrv):\n",
      "Solução: {'x15': 3, 'x24': 4, 'x43': 3, 'x25': 5, 'x33': 5, 'x53': 4, 'x11': 4, 'x52': 5, 'x51': 1, 'x12': 1, 'x54': 3, 'x35': 4, 'x34': 1, 'x21': 3, 'x14': 5, 'x45': 1, 'x41': 5, 'x44': 2, 'x13': 2, 'x23': 1, 'x22': 2, 'x42': 4, 'x55': 2, 'x31': 2, 'x32': 3}\n",
      "Time:  352.6003493\n",
      "Solução com tempo superior a 1min\n",
      "É possível correr os três algoritmos num tempo inferior a 1min até à dimensão 4\n"
     ]
    }
   ],
   "source": [
    "pdim4_1 = futoshiki(4, ['x11 = 4', 'x44 = 1'], ['x12 < x13', 'x13 < x14', 'x33 < x34', 'x42 > x43'])\n",
    "pdim5_1 = futoshiki(5, ['x15 = 3', 'x24 = 4'], ['x11 > x12', 'x14 > x24', 'x15 < x25', 'x22 > x23', 'x31 < x32', 'x32 < x33', 'x43 < x53', 'x54 > x44', 'x55 > x45'])\n",
    "pdim6_1 = futoshiki(6, ['x16 = 6', 'x45 = 4', 'x53 = 5', 'x56 = 3'], ['x11 < x12', 'x21 < x22', 'x13 < x23', 'x32 > x42', 'x41 < x42', 'x35 > x36', 'x36 > x46', 'x45 < x55', 'x56 < x66', 'x61 < x62', 'x63 > x64'])\n",
    "\n",
    "pdim4_2 = futoshiki(4, ['x11 = 4', 'x44 = 1'], ['x12 < x13', 'x13 < x14', 'x33 < x34', 'x42 > x43'])\n",
    "pdim5_2 = futoshiki(5, ['x15 = 3', 'x24 = 4'], ['x11 > x12', 'x14 > x24', 'x15 < x25', 'x22 > x23', 'x31 < x32', 'x32 < x33', 'x43 < x53', 'x54 > x44', 'x55 > x45'])\n",
    "pdim6_2 = futoshiki(6, ['x16 = 6', 'x45 = 4', 'x53 = 5', 'x56 = 3'], ['x11 < x12', 'x21 < x22', 'x13 < x23', 'x32 > x42', 'x41 < x42', 'x35 > x36', 'x36 > x46', 'x45 < x55', 'x56 < x66', 'x61 < x62', 'x63 > x64'])\n",
    "\n",
    "pdim4_3 = futoshiki(4, ['x11 = 4', 'x44 = 1'], ['x12 < x13', 'x13 < x14', 'x33 < x34', 'x42 > x43'])\n",
    "pdim5_3 = futoshiki(5, ['x15 = 3', 'x24 = 4'], ['x11 > x12', 'x14 > x24', 'x15 < x25', 'x22 > x23', 'x31 < x32', 'x32 < x33', 'x43 < x53', 'x54 > x44', 'x55 > x45'])\n",
    "pdim6_3 = futoshiki(6, ['x16 = 6', 'x45 = 4', 'x53 = 5', 'x56 = 3'], ['x11 < x12', 'x21 < x22', 'x13 < x23', 'x32 > x42', 'x41 < x42', 'x35 > x36', 'x36 > x46', 'x45 < x55', 'x56 < x66', 'x61 < x62', 'x63 > x64'])\n",
    "\n",
    "list1 = [pdim4_1, pdim4_2, pdim4_3]\n",
    "list2 = [pdim5_1, pdim5_2, pdim5_3]\n",
    "list3 = [pdim6_1, pdim6_2, pdim6_3]\n",
    "\n",
    "listasproblemas = [list1, list2, list3]\n",
    "\n",
    "dim = 4\n",
    "for lista in listasproblemas:\n",
    "    print(\"\\n \\nVamos resolver o problema de dimensao\", dim)\n",
    "\n",
    "    print('Apliquemos a procura com retrocesso, simples, sem inferência nem heurísticas')\n",
    "    p = lista[0]\n",
    "    start = timeit.default_timer()\n",
    "    r = backtracking_search(p)\n",
    "    stop = timeit.default_timer()\n",
    "    time_sem_inferencia = stop-start\n",
    "    print('Solução:',r)\n",
    "    print('Time: ', time_sem_inferencia)\n",
    "    if time_sem_inferencia > 60:\n",
    "        print('Solução com tempo superior a 1min')\n",
    "        break\n",
    "\n",
    "    print('\\nApliquemos a procura com retrocesso com forward checking e sem heurísticas')\n",
    "    p = lista[1]\n",
    "    start = timeit.default_timer()\n",
    "    r = backtracking_search(p,inference=forward_checking)\n",
    "    stop = timeit.default_timer()\n",
    "    time_com_inferencia = stop-start\n",
    "    print('Solução:',r)\n",
    "    print('Time: ', time_com_inferencia)\n",
    "    if time_com_inferencia > 60:\n",
    "        print('Solução com tempo superior a 1min')\n",
    "        break\n",
    "\n",
    "    print('\\nApliquemos a procura com retrocesso com a heurística da variável com menor domínio (mrv):')\n",
    "    p = lista[2]\n",
    "    start = timeit.default_timer()\n",
    "    r = backtracking_search(p,select_unassigned_variable = mrv)\n",
    "    stop = timeit.default_timer()\n",
    "    time_com_heuristica = stop-start\n",
    "    print('Solução:',r)\n",
    "    print('Time: ', time_com_heuristica)\n",
    "    if time_com_heuristica > 60:\n",
    "        print('Solução com tempo superior a 1min')\n",
    "        break\n",
    "    dim += 1\n",
    "print(\"É possível correr os três algoritmos num tempo inferior a 1min até à dimensão\", dim-1)"
   ]
  },
  {
   "cell_type": "markdown",
   "metadata": {},
   "source": [
    "## Visualização do problema"
   ]
  },
  {
   "cell_type": "code",
   "execution_count": 31,
   "metadata": {},
   "outputs": [],
   "source": [
    "# Implemente uma função que permita visualizar o puzzle Futoshiki, antes e depois de resolvido. Compare com a solução obtida pelo seu algoritmo. \n",
    "# No caso de não implementar esta função, inclua um screenshot do problema e da sua solução.\n",
    "def display_futoshiki(n, lista_entradas, lista_desigualdades):\n",
    "    variaveis = [('x' + str(i) + str(j)) for i in range(1,n+1) for j in range(1,n+1)]\n",
    "    print('Futoshiki antes de estar resolvido')\n",
    "    barra = '----' * n\n",
    "    print( ' '+barra[:-1] +' ')\n",
    "    for v in variaveis:\n",
    "        if variaveis.index(v)%n==0:\n",
    "            print('| ',end='')\n",
    "        conteudo = ' '\n",
    "        separacao = ' | '\n",
    "        for restricoes in lista_desigualdades:\n",
    "            variavel_esquerda = restricoes.split()[0]\n",
    "            desigualdade = restricoes.split()[1]\n",
    "            variavel_direita = restricoes.split()[2]\n",
    "            if v in variavel_esquerda:\n",
    "                if v[1] == variavel_direita[1]:\n",
    "                    separacao = ' ' + desigualdade + ' '\n",
    "        for restricoes in lista_entradas:\n",
    "            if v in restricoes.split()[0]:\n",
    "                conteudo = restricoes.split()[2]\n",
    "        print(conteudo, end = separacao)\n",
    "        if variaveis.index(v)%n==n-1:\n",
    "            linha = ''\n",
    "            for c in range(1, n+1):\n",
    "                adicionar_linha = '----'\n",
    "                for restricoes in lista_desigualdades:\n",
    "                    esq = restricoes.split()[0]\n",
    "                    desigualdade = restricoes.split()[1]\n",
    "                    di = restricoes.split()[2]\n",
    "                    if int(esq[1]) > int(di[1]):\n",
    "                        esq, di = di, esq\n",
    "                        if desigualdade == '<':\n",
    "                            desigualdade = '>'\n",
    "                        else:\n",
    "                            desigualdade = '<'\n",
    "                    if ('x' + v[1] + str(c)) == esq:\n",
    "                        if ('x' + str(int(esq[1])+1) + esq[2]) == di:\n",
    "                            if desigualdade == '<':\n",
    "                                adicionar_linha = '-' + u\"\\u2227\" + '--'\n",
    "                            if desigualdade == '>':\n",
    "                                adicionar_linha = '-' + u\"\\u2228\" + '--'\n",
    "                linha += adicionar_linha\n",
    "            print()\n",
    "            print(' ' + linha[:-1] + ' ')\n",
    "    r = backtracking_search(futoshiki(n, lista_entradas, lista_desigualdades))\n",
    "    print('Futoshiki depois de estar resolvido')\n",
    "    barra = '----' * n\n",
    "    print( ' '+barra[:-1] +' ')\n",
    "    for v in variaveis:\n",
    "        if variaveis.index(v)%n==0:\n",
    "            print('| ',end='')\n",
    "        conteudo = ' '\n",
    "        separacao = ' | '\n",
    "        for restricoes in lista_desigualdades:\n",
    "            variavel_esquerda = restricoes.split()[0]\n",
    "            desigualdade = restricoes.split()[1]\n",
    "            variavel_direita = restricoes.split()[2]\n",
    "            if v in variavel_esquerda:\n",
    "                if v[1] == variavel_direita[1]:\n",
    "                    separacao = ' ' + desigualdade + ' '\n",
    "        conteudo = r[v]\n",
    "        print(conteudo, end = separacao)\n",
    "        if variaveis.index(v)%n==n-1:\n",
    "            linha = ''\n",
    "            for c in range(1, n+1):\n",
    "                adicionar_linha = '----'\n",
    "                for restricoes in lista_desigualdades:\n",
    "                    esq = restricoes.split()[0]\n",
    "                    desigualdade = restricoes.split()[1]\n",
    "                    di = restricoes.split()[2]\n",
    "                    if int(esq[1]) > int(di[1]):\n",
    "                        esq, di = di, esq\n",
    "                        if desigualdade == '<':\n",
    "                            desigualdade = '>'\n",
    "                        else:\n",
    "                            desigualdade = '<'\n",
    "                    if ('x' + v[1] + str(c)) == esq:\n",
    "                        if ('x' + str(int(esq[1])+1) + esq[2]) == di:\n",
    "                            if desigualdade == '<':\n",
    "                                adicionar_linha = '-' + u\"\\u2227\" + '--'\n",
    "                            if desigualdade == '>':\n",
    "                                adicionar_linha = '-' + u\"\\u2228\" + '--'\n",
    "                linha += adicionar_linha\n",
    "            print()\n",
    "            print(' ' + linha[:-1] + ' ')"
   ]
  },
  {
   "cell_type": "code",
   "execution_count": 32,
   "metadata": {},
   "outputs": [
    {
     "name": "stdout",
     "output_type": "stream",
     "text": [
      "Futoshiki antes de estar resolvido\n",
      " ------------------- \n",
      "|   >   |   |   | 3 | \n",
      " -------------∨---∧- \n",
      "|   |   >   | 4 |   | \n",
      " ------------------- \n",
      "|   <   <   |   |   | \n",
      " ------------------- \n",
      "|   |   |   |   |   | \n",
      " ---------∧---∧---∧- \n",
      "|   |   |   |   |   | \n",
      " ------------------- \n",
      "Futoshiki depois de estar resolvido\n",
      " ------------------- \n",
      "| 4 > 1 | 2 | 5 | 3 | \n",
      " -------------∨---∧- \n",
      "| 3 | 2 > 1 | 4 | 5 | \n",
      " ------------------- \n",
      "| 2 < 3 < 5 | 1 | 4 | \n",
      " ------------------- \n",
      "| 5 | 4 | 3 | 2 | 1 | \n",
      " ---------∧---∧---∧- \n",
      "| 1 | 5 | 4 | 3 | 2 | \n",
      " ------------------- \n"
     ]
    }
   ],
   "source": [
    "display_futoshiki(5, ['x15 = 3', 'x24 = 4'], ['x11 > x12', 'x14 > x24', 'x15 < x25', 'x22 > x23', 'x31 < x32', 'x32 < x33', 'x43 < x53', 'x54 > x44', 'x55 > x45'])"
   ]
  },
  {
   "cell_type": "code",
   "execution_count": 33,
   "metadata": {},
   "outputs": [
    {
     "name": "stdout",
     "output_type": "stream",
     "text": [
      "Futoshiki antes de estar resolvido\n",
      " --------------- \n",
      "|   |   <   |   | \n",
      " -∨------------- \n",
      "|   >   |   |   | \n",
      " ---------∧----- \n",
      "|   |   |   |   | \n",
      " -∨------------- \n",
      "|   |   <   |   | \n",
      " --------------- \n",
      "Futoshiki depois de estar resolvido\n",
      " --------------- \n",
      "| 4 | 1 < 2 | 3 | \n",
      " -∨------------- \n",
      "| 3 > 2 | 1 | 4 | \n",
      " ---------∧----- \n",
      "| 2 | 4 | 3 | 1 | \n",
      " -∨------------- \n",
      "| 1 | 3 < 4 | 2 | \n",
      " --------------- \n"
     ]
    }
   ],
   "source": [
    "display_futoshiki(4, [], ['x12 < x13', 'x11 > x21', 'x21 > x22', 'x23 < x33', 'x31 > x41', 'x42 < x43'])"
   ]
  },
  {
   "cell_type": "code",
   "execution_count": null,
   "metadata": {},
   "outputs": [],
   "source": []
  }
 ],
 "metadata": {
  "kernelspec": {
   "display_name": "Python 3 (ipykernel)",
   "language": "python",
   "name": "python3"
  },
  "language_info": {
   "codemirror_mode": {
    "name": "ipython",
    "version": 3
   },
   "file_extension": ".py",
   "mimetype": "text/x-python",
   "name": "python",
   "nbconvert_exporter": "python",
   "pygments_lexer": "ipython3",
   "version": "3.9.7"
  }
 },
 "nbformat": 4,
 "nbformat_minor": 2
}
