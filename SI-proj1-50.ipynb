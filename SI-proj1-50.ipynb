{
 "cells": [
  {
   "cell_type": "markdown",
   "id": "bf9c87b1",
   "metadata": {},
   "source": [
    "# Sistemas Inteligentes 2021/2022\n",
    "\n",
    "## Mini-projeto 1: Pacman comilão\n",
    "\n",
    "<img src=\"pacman.png\" alt=\"Drawing\" style=\"width: 100px;\"/>"
   ]
  },
  {
   "cell_type": "markdown",
   "id": "d7b8efca",
   "metadata": {},
   "source": [
    "## Grupo: 50\n",
    "\n",
    "### Elementos do Grupo\n",
    "\n",
    "Número: 53841   Nome: Tomás Carrilho     \n",
    "Número: 54838   Nome: Matilde Carvalho    \n",
    "Número: 54859   Nome: Rita Rodrigues     \n",
    "\n",
    "(Nota: Neste relatório pode adicionar as células de texto e código que achar necessárias.)"
   ]
  },
  {
   "cell_type": "markdown",
   "id": "df10acb0",
   "metadata": {},
   "source": [
    "## Representação dos estados\n",
    "\n",
    "Um estado é representado por um duplo ((x,y),p) em que (x,y) corresponde às coordenadas da célula em que o Pacman se encontra e p ao número de pontos acumulados."
   ]
  },
  {
   "cell_type": "code",
   "execution_count": 1,
   "id": "15d946c3",
   "metadata": {},
   "outputs": [],
   "source": [
    "# se definiu uma classe para representar os estados, inclua aqui o código Python correspondente"
   ]
  },
  {
   "cell_type": "code",
   "execution_count": 2,
   "id": "d335aebe",
   "metadata": {},
   "outputs": [],
   "source": [
    "# representação de um estado à sua escolha\n",
    "((x,y),p) = ((1,1),0)"
   ]
  },
  {
   "cell_type": "markdown",
   "id": "4ab69211",
   "metadata": {},
   "source": [
    "## Formulação do problema\n",
    "\n",
    "Estado inicial: (x,y,0), em que (x,y) é uma célula dentro dos limites do mundo que não é obstáculo \\\n",
    "Estado final: (x,y,p), em que (x,y) é uma célula dentro dos limites do mundo que não é obstáculo e p >= M é o número de pontos finais, sendo M o mínimo que deve obter\n",
    "\n",
    "Supomos que todos os labirintos têm uma moldura quadrada.\n",
    "\n",
    "* Operadores de transição entre estados, dado s=(x,y,p)\n",
    "    * Norte (N): \\\n",
    "        Condições: y > 1 e (x,y-1) != obstáculo \\\n",
    "        Sucessor: s'=copia(s), s[1]=s[1]-1 e s[2]=s[2]+x \n",
    "    * Sul (S): \\\n",
    "        Condições: y < dim-1 e (x,y+1) != obstáculo\\\n",
    "        Sucessor: s'=copia(s), s[1]=s[1]+1 e s[2]=s[2]+x \n",
    "    * Este (E): \\\n",
    "        Condições: x < dim-1 e (x+1,y) != obstáculo \\\n",
    "        Sucessor: s'=copia(s), s[0]=s[0]+1 e s[2]=s[2]+x \n",
    "    * Oeste (O): \\\n",
    "        Condições: x > 1 e (x-1,y) != obstáculo \\\n",
    "        Sucessor: s'=copia(s), s[0]=s[0]-1 e s[2]=s[2]+x \n",
    "    * Em qualquer um dos operadores:\n",
    "        * x = 0 se a célula sucessora não tem pastilha\n",
    "        * x = 1 se a célula sucessora tem a pastilha N\n",
    "        * x = max(0,5-t) em que t é o tempo decorrido até a pastilha ser apanhada se a célula sucessora tem a pastilha D\n",
    "        * x = t em que t é o tempo decorrido até a pastilha ser apanhada se a célula sucessora tem a pastilha C\n",
    "        * O custo da operação é 1 se for a primeira vez que o Pacman visita a célula sucessora e n se for a n-ésima"
   ]
  },
  {
   "cell_type": "markdown",
   "id": "b9f4668f",
   "metadata": {},
   "source": [
    "Antes de começarmos a formulação, vamos definir as funções fornecidas no enunciado e construir um conjunto de obstáculos. "
   ]
  },
  {
   "cell_type": "code",
   "execution_count": 3,
   "id": "3c1cda16",
   "metadata": {},
   "outputs": [],
   "source": [
    "def exec(p,estado,accoes):\n",
    "    custo = 0\n",
    "    for a in accoes:\n",
    "        seg = p.result(estado,a)\n",
    "        custo = p.path_cost(custo,estado,a,seg)\n",
    "        estado = seg\n",
    "    p.display(estado)\n",
    "    print('Custo:',custo)\n",
    "    print('Goal?',p.goal_test(estado))\n",
    "    return (estado,custo)\n",
    "\n",
    "def line(x, y, dx, dy, length):\n",
    "    \"\"\"Uma linha de células de comprimento 'length' começando em (x, y) na direcção (dx, dy).\"\"\"\n",
    "    return {(x + i * dx, y + i * dy) for i in range(length)}\n",
    "\n",
    "def quadro(x, y, length):\n",
    "    \"\"\"Uma moldura quadrada de células de comprimento 'length' começando no topo esquerdo (x, y).\"\"\"\n",
    "    return line(x,y,0,1,length) | line(x+length-1,y,0,1,length) | line(x,y,1,0,length) | line(x,y+length-1,1,0,length)\n",
    "l = line(2,2,1,0,6)\n",
    "c = line(2,3,0,1,4)\n",
    "fronteira = quadro(0,0,10)\n",
    "obstacles=fronteira | l | c"
   ]
  },
  {
   "cell_type": "code",
   "execution_count": 4,
   "id": "c5327f4f",
   "metadata": {},
   "outputs": [],
   "source": [
    "from searchPlus import *\n",
    "\n",
    "class PacmanPastilhas(Problem):\n",
    "    \"\"\"Obter M pontos (valor passado no parâmetro goal) num mundo onde existem pastilhas.\n",
    "       Um estado é um tuplo ((x,y),p) em que (x,y) representa a posição do Pacman e p é o nº de pontos acumulados.\"\"\"\n",
    "       \n",
    "    def __init__(self, initial = ((1,1),0), goal=1, pastilhas={}, obstacles=quadro(0,0,10), dim=10):\n",
    "        self.initial = initial\n",
    "        self.pacman = initial[0] # (x,y) que representa a posição inicial do Pacman\n",
    "        self.pontos = initial[1]\n",
    "        self.goal = goal # o nº mínimo de pontos que o Pacman deve obter\n",
    "        self.pastilhas = pastilhas # conjunto das pastilhas: dicionário com chaves {N,D,C} e os valores são uma lista de tuplos correspondentes às posições das pastilhas\n",
    "        self.obstacles = obstacles # conjunto de obstáculos\n",
    "        self.dim = dim # dimensão do mundo\n",
    "    \n",
    "        self.visitadas = [self.pacman]\n",
    "        self.directions = {\"N\":(0, -1), \"O\":(-1, 0),\"S\":(0, 1), \"E\":(1,  0)}\n",
    "\n",
    "        \n",
    "    def actions(self, state):\n",
    "        \"\"\"O Pacman pode mover-se nas quatro direcções ortogonais para as quatro células\n",
    "           vizinhas desde que não seja impedido pelos limites do mundo nem por obstáculos.\n",
    "           Uma ação é da forma 'N'. \"\"\"\n",
    "        x, y = state[0]\n",
    "        return [act for act in self.directions.keys() if (x+self.directions[act][0],y+self.directions[act][1]) not in self.obstacles]\n",
    "        \n",
    "    def result(self, state, action):\n",
    "        \"\"\"Uma ação é da forma 'N' e um estado é um duplo ((x,y),p) em que (x,y) representa a célula onde está o Pacman.\n",
    "           O resultado será outro duplo ((x,y),p) em que (x,y) representa a célula onde o Pacman irá estar.\n",
    "           Caso o Pacman coma uma pastilha, os seus pontos aumentam.\n",
    "           Também é acrescentada a célula sucessora da accao à lista de células visitadas.\"\"\"\n",
    "        (x,y) = state[0]\n",
    "        (dx,dy) = self.directions[action]\n",
    "        result = [(x+dx,y+dy), state[1]]\n",
    "        for (k,v) in self.pastilhas.items():\n",
    "            if result[0] in v:\n",
    "                self.pastilhas[k].remove(result[0])\n",
    "                if k == \"N\":\n",
    "                    result[1] += 1\n",
    "                elif k == \"D\":\n",
    "                    result[1] += max(0, 5-len(self.visitadas)) #len(self.visitadas) = tempo decorrido até a pastilha ser apanhada\n",
    "                elif k == \"C\":\n",
    "                    result[1] += len(self.visitadas)\n",
    "                    \n",
    "        self.visitadas.append(result[0])\n",
    "        return tuple(result)\n",
    "    \n",
    "    def goal_test(self, state):\n",
    "        \"\"\"Obter pelo menos os pontos passados no parâmetro goal.\"\"\"\n",
    "        return state[1] >= self.goal\n",
    "    \n",
    "    def display(self, state):\n",
    "        \"\"\"Imprime um estado.\"\"\"\n",
    "        output = \"\"\n",
    "        for y in range(self.dim):\n",
    "            for x in range(self.dim):\n",
    "                if (x,y) == state[0]:\n",
    "                    output += \"@ \"\n",
    "                elif (x,y) in self.obstacles:\n",
    "                    output += \"= \"\n",
    "                else:\n",
    "                    output += \". \"\n",
    "                for (k,v) in self.pastilhas.items():\n",
    "                    if (x,y) in v:\n",
    "                        output = output[:-2] + k + \" \"\n",
    "                if (x+1) % self.dim == 0:\n",
    "                    output += \"\\n\"\n",
    "        print(output)\n",
    "        \n",
    "    def display_trace(self,d,plan):\n",
    "        path = list()\n",
    "        st = self.initial\n",
    "        for a in plan:\n",
    "            st = self.result(st,a)\n",
    "            path.append(st[0])\n",
    "        \n",
    "        \"\"\" print the state please\"\"\"\n",
    "        output=\"\"\n",
    "        for j in range(d):\n",
    "            for i in range(d):\n",
    "                if self.initial[0] ==(i,j):\n",
    "                    ch = '@'\n",
    "                elif (i,j) == path[-1]:\n",
    "                    ch = \"*\"\n",
    "                elif (i,j) in self.obstacles:\n",
    "                    ch = \"=\"\n",
    "                elif (i,j) in path:\n",
    "                    ch = '+'\n",
    "                else:\n",
    "                    ch = \".\"\n",
    "                output += ch + \" \"\n",
    "            output += \"\\n\"\n",
    "        print(output)\n",
    "        \n",
    "    def path_cost(self, c, state1, action, state2):\n",
    "        \"\"\"O custo de uma accao é 1 se for a 1ª vez que visita a célula e n se for a n-ésima.\"\"\"\n",
    "        return c + self.visitadas.count(state2[0])\n",
    "    \n",
    "    def __eq__(self, other):\n",
    "        \"\"\"Dois estados são iguais se o Pacman estiver na mesma célula e se os pontos forem iguais.\"\"\"\n",
    "        return self.pacman == other.pacman and self.pontos == other.pontos\n",
    "    \n",
    "    def __lt__(self,other):\n",
    "        \"\"\"Um estado é menor que o outro se os pontos forem menores.\"\"\"\n",
    "        return self.pontos < other.pontos"
   ]
  },
  {
   "cell_type": "markdown",
   "id": "f46b1688",
   "metadata": {},
   "source": [
    "## Criação de estados e do problema\n",
    "\n",
    "(Mostrem que o código está a funcionar, construindo instâncias da classe **PacmanPastilhas**, fazendo display dos estados, verificando o teste do estado final, gerando as ações para alguns estados, executando ações a partir de alguns estados e gerando novos estados e mostrando a evolução dos custos; verificando que os estados não se modificam com as ações (são gerados novos estados) e que a igualdade e a comparação entre estados funciona. Mostrem que a execução de sequências de ações está a funcionar bem.)"
   ]
  },
  {
   "cell_type": "markdown",
   "id": "dfa6eafb",
   "metadata": {},
   "source": [
    "Vamos criar um problema da classe PacmanPastilhas."
   ]
  },
  {
   "cell_type": "code",
   "execution_count": 5,
   "id": "cecc38b6",
   "metadata": {},
   "outputs": [],
   "source": [
    "p1 = PacmanPastilhas(initial=((1,1),0),goal=6,pastilhas={\"N\":[(2,1), (3,7)], \"D\":[(4,5)], \"C\":[(7,3)]},obstacles=fronteira | l | c,dim=10)"
   ]
  },
  {
   "cell_type": "markdown",
   "id": "f846ac90",
   "metadata": {},
   "source": [
    "Podemos ver o estado inicial do Pacman, no qual o custo ainda é 0:"
   ]
  },
  {
   "cell_type": "code",
   "execution_count": 6,
   "id": "396eb3f2",
   "metadata": {},
   "outputs": [
    {
     "name": "stdout",
     "output_type": "stream",
     "text": [
      "((1, 1), 0)\n"
     ]
    }
   ],
   "source": [
    "e1 = p1.initial\n",
    "print(e1)\n",
    "custo = 0"
   ]
  },
  {
   "cell_type": "markdown",
   "id": "31e72568",
   "metadata": {},
   "source": [
    "Podemos também ver qual é o número mínimo de pontos que o Pacman tem de atingir."
   ]
  },
  {
   "cell_type": "code",
   "execution_count": 7,
   "id": "186f8dc5",
   "metadata": {},
   "outputs": [
    {
     "name": "stdout",
     "output_type": "stream",
     "text": [
      "6\n"
     ]
    }
   ],
   "source": [
    "print(p1.goal)"
   ]
  },
  {
   "cell_type": "markdown",
   "id": "ce5be794",
   "metadata": {},
   "source": [
    "E ainda podemos ver uma representação do mundo."
   ]
  },
  {
   "cell_type": "code",
   "execution_count": 8,
   "id": "5324ae2b",
   "metadata": {},
   "outputs": [
    {
     "name": "stdout",
     "output_type": "stream",
     "text": [
      "= = = = = = = = = = \n",
      "= @ N . . . . . . = \n",
      "= . = = = = = = . = \n",
      "= . = . . . . C . = \n",
      "= . = . . . . . . = \n",
      "= . = . D . . . . = \n",
      "= . = . . . . . . = \n",
      "= . . N . . . . . = \n",
      "= . . . . . . . . = \n",
      "= = = = = = = = = = \n",
      "\n"
     ]
    }
   ],
   "source": [
    "p1.display(e1)"
   ]
  },
  {
   "cell_type": "markdown",
   "id": "9cf95a48",
   "metadata": {},
   "source": [
    "Vamos ver quais são todas as acções possíveis a partir do estado inicial do problema p1."
   ]
  },
  {
   "cell_type": "code",
   "execution_count": 9,
   "id": "aab834ee",
   "metadata": {},
   "outputs": [
    {
     "data": {
      "text/plain": [
       "['S', 'E']"
      ]
     },
     "execution_count": 9,
     "metadata": {},
     "output_type": "execute_result"
    }
   ],
   "source": [
    "p1.actions(e1) #resultado esperado: [\"E\", \"S\"], porque [\"N\", \"O\"] é fronteira"
   ]
  },
  {
   "cell_type": "markdown",
   "id": "d2deaa23",
   "metadata": {},
   "source": [
    "Vamos ver qual é o resultado de ir para \"S\"."
   ]
  },
  {
   "cell_type": "code",
   "execution_count": 10,
   "id": "ca8efc65",
   "metadata": {},
   "outputs": [
    {
     "name": "stdout",
     "output_type": "stream",
     "text": [
      "((1, 2), 0)\n"
     ]
    }
   ],
   "source": [
    "e2 = p1.result(e1, \"S\")\n",
    "print(e2)"
   ]
  },
  {
   "cell_type": "code",
   "execution_count": 11,
   "id": "7dac505c",
   "metadata": {},
   "outputs": [
    {
     "name": "stdout",
     "output_type": "stream",
     "text": [
      "= = = = = = = = = = \n",
      "= . N . . . . . . = \n",
      "= @ = = = = = = . = \n",
      "= . = . . . . C . = \n",
      "= . = . . . . . . = \n",
      "= . = . D . . . . = \n",
      "= . = . . . . . . = \n",
      "= . . N . . . . . = \n",
      "= . . . . . . . . = \n",
      "= = = = = = = = = = \n",
      "\n"
     ]
    }
   ],
   "source": [
    "p1.display(e2)"
   ]
  },
  {
   "cell_type": "markdown",
   "id": "d0ae51cd",
   "metadata": {},
   "source": [
    "Esta ação tem custo 1, pois é a 1ª vez que o Pacman visita a célula (1,2), verifiquemos esta afirmação:"
   ]
  },
  {
   "cell_type": "code",
   "execution_count": 12,
   "id": "16c17e19",
   "metadata": {},
   "outputs": [
    {
     "name": "stdout",
     "output_type": "stream",
     "text": [
      "1\n"
     ]
    }
   ],
   "source": [
    "custo = p1.path_cost(custo, e1, \"S\", e2 )\n",
    "print(custo)"
   ]
  },
  {
   "cell_type": "markdown",
   "id": "06c7fd45",
   "metadata": {},
   "source": [
    "Verifiquemos que o estado 'e1' não foi modificado."
   ]
  },
  {
   "cell_type": "code",
   "execution_count": 13,
   "id": "76e68775",
   "metadata": {},
   "outputs": [
    {
     "name": "stdout",
     "output_type": "stream",
     "text": [
      "((1, 1), 0)\n"
     ]
    }
   ],
   "source": [
    "print(e1)"
   ]
  },
  {
   "cell_type": "markdown",
   "id": "e25ea041",
   "metadata": {},
   "source": [
    "Vamos ver as ações possíveis a partir do estado 'e2'."
   ]
  },
  {
   "cell_type": "code",
   "execution_count": 14,
   "id": "54252292",
   "metadata": {},
   "outputs": [
    {
     "data": {
      "text/plain": [
       "['N', 'S']"
      ]
     },
     "execution_count": 14,
     "metadata": {},
     "output_type": "execute_result"
    }
   ],
   "source": [
    "p1.actions(e2)"
   ]
  },
  {
   "cell_type": "markdown",
   "id": "c8e93196",
   "metadata": {},
   "source": [
    "Caso volte para a casa (1,1), esta accao terá custo 2, ou seja, fica um custo total de 3. Vejamos:"
   ]
  },
  {
   "cell_type": "code",
   "execution_count": 15,
   "id": "ed30ea30",
   "metadata": {},
   "outputs": [
    {
     "name": "stdout",
     "output_type": "stream",
     "text": [
      "3\n"
     ]
    }
   ],
   "source": [
    "e3 = p1.result(e2, \"N\")\n",
    "custo = p1.path_cost(custo, e2, \"N\", e3)\n",
    "print(custo)"
   ]
  },
  {
   "cell_type": "code",
   "execution_count": 16,
   "id": "f6b163f8",
   "metadata": {},
   "outputs": [
    {
     "name": "stdout",
     "output_type": "stream",
     "text": [
      "= = = = = = = = = = \n",
      "= @ N . . . . . . = \n",
      "= . = = = = = = . = \n",
      "= . = . . . . C . = \n",
      "= . = . . . . . . = \n",
      "= . = . D . . . . = \n",
      "= . = . . . . . . = \n",
      "= . . N . . . . . = \n",
      "= . . . . . . . . = \n",
      "= = = = = = = = = = \n",
      "\n"
     ]
    }
   ],
   "source": [
    "p1.display(e3)"
   ]
  },
  {
   "cell_type": "markdown",
   "id": "ef481694",
   "metadata": {},
   "source": [
    "Até agora o Pacman ainda não comeu nenhuma pastilha, portanto tem 0 pontos:"
   ]
  },
  {
   "cell_type": "code",
   "execution_count": 17,
   "id": "edea47f5",
   "metadata": {},
   "outputs": [
    {
     "data": {
      "text/plain": [
       "((1, 1), 0)"
      ]
     },
     "execution_count": 17,
     "metadata": {},
     "output_type": "execute_result"
    }
   ],
   "source": [
    "e3"
   ]
  },
  {
   "cell_type": "markdown",
   "id": "52837893",
   "metadata": {},
   "source": [
    "Mas pode ir para \"E\" e comer uma pastilha N que vale 1 ponto."
   ]
  },
  {
   "cell_type": "code",
   "execution_count": 18,
   "id": "28e65bed",
   "metadata": {},
   "outputs": [],
   "source": [
    "e4 = p1.result(e3, \"E\")"
   ]
  },
  {
   "cell_type": "code",
   "execution_count": 19,
   "id": "d5b13ed1",
   "metadata": {},
   "outputs": [
    {
     "name": "stdout",
     "output_type": "stream",
     "text": [
      "= = = = = = = = = = \n",
      "= . @ . . . . . . = \n",
      "= . = = = = = = . = \n",
      "= . = . . . . C . = \n",
      "= . = . . . . . . = \n",
      "= . = . D . . . . = \n",
      "= . = . . . . . . = \n",
      "= . . N . . . . . = \n",
      "= . . . . . . . . = \n",
      "= = = = = = = = = = \n",
      "\n"
     ]
    }
   ],
   "source": [
    "p1.display(e4)"
   ]
  },
  {
   "cell_type": "code",
   "execution_count": 20,
   "id": "0506baca",
   "metadata": {},
   "outputs": [
    {
     "data": {
      "text/plain": [
       "((2, 1), 1)"
      ]
     },
     "execution_count": 20,
     "metadata": {},
     "output_type": "execute_result"
    }
   ],
   "source": [
    "e4"
   ]
  },
  {
   "cell_type": "markdown",
   "id": "df4f174f",
   "metadata": {},
   "source": [
    "Será que já atingiu o objetivo?"
   ]
  },
  {
   "cell_type": "code",
   "execution_count": 21,
   "id": "21a70552",
   "metadata": {},
   "outputs": [
    {
     "data": {
      "text/plain": [
       "False"
      ]
     },
     "execution_count": 21,
     "metadata": {},
     "output_type": "execute_result"
    }
   ],
   "source": [
    "p1.goal_test(e4)"
   ]
  },
  {
   "cell_type": "markdown",
   "id": "a917394b",
   "metadata": {},
   "source": [
    "Ainda não, tem de chegar a 6 pontos."
   ]
  },
  {
   "cell_type": "markdown",
   "id": "14390232",
   "metadata": {},
   "source": [
    "Vamos definir outro problema."
   ]
  },
  {
   "cell_type": "code",
   "execution_count": 22,
   "id": "d4443046",
   "metadata": {},
   "outputs": [],
   "source": [
    "p2 = PacmanPastilhas(initial=((4,1),0),goal=8,pastilhas={\"N\":[(2,1), (1,2)], \"D\":[(2,4), (4,4)], \"C\":[(3,2)]},obstacles=quadro(0,0,6),dim=6)"
   ]
  },
  {
   "cell_type": "code",
   "execution_count": 23,
   "id": "861c2790",
   "metadata": {},
   "outputs": [
    {
     "name": "stdout",
     "output_type": "stream",
     "text": [
      "= = = = = = \n",
      "= . N . @ = \n",
      "= N . C . = \n",
      "= . . . . = \n",
      "= . D . D = \n",
      "= = = = = = \n",
      "\n"
     ]
    }
   ],
   "source": [
    "p2.display(p2.initial)"
   ]
  },
  {
   "cell_type": "markdown",
   "id": "57bf23cc",
   "metadata": {},
   "source": [
    "Vamos executar várias ações até comermos todas as pastilhas."
   ]
  },
  {
   "cell_type": "code",
   "execution_count": 24,
   "id": "bbb86943",
   "metadata": {},
   "outputs": [
    {
     "name": "stdout",
     "output_type": "stream",
     "text": [
      "= = = = = = \n",
      "= . . . . = \n",
      "= . . . . = \n",
      "= . . . . = \n",
      "= . . . @ = \n",
      "= = = = = = \n",
      "\n",
      "Custo: 14\n",
      "Goal? True\n"
     ]
    },
    {
     "data": {
      "text/plain": [
       "' Resultados esperados:\\ncusto = 14\\nN (2,1): 1\\nN (1,2): 1\\nD (2,4): max(0,5-9) = 0\\nD (4,4): max(0,5-11) = 0\\nC (3,2): 6\\npontos = 8 => goal = True\\n'"
      ]
     },
     "execution_count": 24,
     "metadata": {},
     "output_type": "execute_result"
    }
   ],
   "source": [
    "(final, custo) = exec(p2, p2.initial, [\"O\",\"O\",\"S\",\"O\",\"E\",\"E\",\"O\",\"S\",\"S\",\"E\",\"E\"])\n",
    "\"\"\" Resultados esperados:\n",
    "custo = 14\n",
    "N (2,1): 1\n",
    "N (1,2): 1\n",
    "D (2,4): max(0,5-9) = 0\n",
    "D (4,4): max(0,5-11) = 0\n",
    "C (3,2): 6\n",
    "pontos = 8 => goal = True\n",
    "\"\"\" "
   ]
  },
  {
   "cell_type": "code",
   "execution_count": 25,
   "id": "433da414",
   "metadata": {},
   "outputs": [
    {
     "data": {
      "text/plain": [
       "((4, 4), 8)"
      ]
     },
     "execution_count": 25,
     "metadata": {},
     "output_type": "execute_result"
    }
   ],
   "source": [
    "final"
   ]
  },
  {
   "cell_type": "markdown",
   "id": "ef2231cb",
   "metadata": {},
   "source": [
    "O estado 'e4' do problema 'p1' é menor que o estado 'final' do problema 'p2', porque tem menor número de pontos. Verifiquemos:"
   ]
  },
  {
   "cell_type": "code",
   "execution_count": 26,
   "id": "a4ecc7c8",
   "metadata": {},
   "outputs": [
    {
     "data": {
      "text/plain": [
       "True"
      ]
     },
     "execution_count": 26,
     "metadata": {},
     "output_type": "execute_result"
    }
   ],
   "source": [
    "e4 < final"
   ]
  },
  {
   "cell_type": "markdown",
   "id": "6459bda3",
   "metadata": {},
   "source": [
    "Voltemos a definir o problema 'p2' e consideremos de novo o estado inicial."
   ]
  },
  {
   "cell_type": "code",
   "execution_count": 27,
   "id": "8f7a86a8",
   "metadata": {},
   "outputs": [
    {
     "name": "stdout",
     "output_type": "stream",
     "text": [
      "= = = = = = \n",
      "= . N . @ = \n",
      "= N . C . = \n",
      "= . . . . = \n",
      "= . D . D = \n",
      "= = = = = = \n",
      "\n"
     ]
    }
   ],
   "source": [
    "p2 = PacmanPastilhas(initial=((4,1),0),goal=8,pastilhas={\"N\":[(2,1), (1,2)], \"D\":[(2,4), (4,4)], \"C\":[(3,2)]},obstacles=quadro(0,0,6),dim=6)\n",
    "s1 = p2.initial\n",
    "p2.display(s1)"
   ]
  },
  {
   "cell_type": "markdown",
   "id": "a05118d9",
   "metadata": {},
   "source": [
    "Vamos andar duas vezes para oeste."
   ]
  },
  {
   "cell_type": "code",
   "execution_count": 28,
   "id": "06acb4fa",
   "metadata": {},
   "outputs": [
    {
     "name": "stdout",
     "output_type": "stream",
     "text": [
      "= = = = = = \n",
      "= . @ . . = \n",
      "= N . C . = \n",
      "= . . . . = \n",
      "= . D . D = \n",
      "= = = = = = \n",
      "\n"
     ]
    }
   ],
   "source": [
    "s2 = p2.result(s1,\"O\")\n",
    "s3 = p2.result(s2,\"O\")\n",
    "p2.display(s3)"
   ]
  },
  {
   "cell_type": "markdown",
   "id": "a5ab6b0d",
   "metadata": {},
   "source": [
    "O estado 's3' que pertence ao problema 'p2' é o mesmo que o estado 'e4' que pertence ao problema 'p1'. E é diferente do estado 'e1' do problema 'p1' também. Confirmemos:"
   ]
  },
  {
   "cell_type": "code",
   "execution_count": 29,
   "id": "b6225048",
   "metadata": {},
   "outputs": [
    {
     "name": "stdout",
     "output_type": "stream",
     "text": [
      "True\n",
      "False\n"
     ]
    }
   ],
   "source": [
    "print(s3 == e4) # True\n",
    "print(s3 == e1) # False"
   ]
  },
  {
   "cell_type": "markdown",
   "id": "a4594e89",
   "metadata": {},
   "source": [
    "Não é verdade que o estado 's3' do problema 'p2' seja menor que o estado 'e4' do problema 'p1'."
   ]
  },
  {
   "cell_type": "code",
   "execution_count": 30,
   "id": "4f70c96c",
   "metadata": {},
   "outputs": [
    {
     "data": {
      "text/plain": [
       "False"
      ]
     },
     "execution_count": 30,
     "metadata": {},
     "output_type": "execute_result"
    }
   ],
   "source": [
    "s3 < e4"
   ]
  },
  {
   "cell_type": "markdown",
   "id": "14a095c8",
   "metadata": {},
   "source": [
    "## Teste de procura de solução\n",
    "\n",
    "(utilização de algoritmos de procura aprendidos nas aulas e comparação dos resultados ao nível de tempo de execução e solução obtida; comente aqui os resultados obtidos e o que observa)"
   ]
  },
  {
   "cell_type": "code",
   "execution_count": 31,
   "id": "1f0640b6",
   "metadata": {},
   "outputs": [],
   "source": [
    "import timeit"
   ]
  },
  {
   "cell_type": "code",
   "execution_count": 32,
   "id": "06577d27",
   "metadata": {},
   "outputs": [],
   "source": [
    "p = PacmanPastilhas(initial=((1,1),0),goal=6,pastilhas={\"N\":[(2,1), (3,7)], \"D\":[(4,5)], \"C\":[(7,3)]},obstacles=fronteira | l | c,dim=10)"
   ]
  },
  {
   "cell_type": "code",
   "execution_count": 33,
   "id": "8107d0de",
   "metadata": {},
   "outputs": [
    {
     "name": "stdout",
     "output_type": "stream",
     "text": [
      "= = = = = = = = = = \n",
      "= @ N . . . . . . = \n",
      "= . = = = = = = . = \n",
      "= . = . . . . C . = \n",
      "= . = . . . . . . = \n",
      "= . = . D . . . . = \n",
      "= . = . . . . . . = \n",
      "= . . N . . . . . = \n",
      "= . . . . . . . . = \n",
      "= = = = = = = = = = \n",
      "\n"
     ]
    }
   ],
   "source": [
    "p.display(p.initial)"
   ]
  },
  {
   "cell_type": "markdown",
   "id": "3906a924",
   "metadata": {},
   "source": [
    "## Procura em árvore\n",
    "\n"
   ]
  },
  {
   "cell_type": "markdown",
   "id": "f7f2cc49",
   "metadata": {},
   "source": [
    "### Procura em profundidade em árvore\n",
    "\n",
    "\n",
    "\n",
    "Começámos pela procura em profundidade em árvore, criando uma instância da class PacmanPastilhas com os seguintes atributos\n"
   ]
  },
  {
   "cell_type": "code",
   "execution_count": 34,
   "id": "a6730e36",
   "metadata": {},
   "outputs": [
    {
     "name": "stdout",
     "output_type": "stream",
     "text": [
      "= = = = = = = = = = \n",
      "= @ N . . . . . . = \n",
      "= . = = = = = = . = \n",
      "= . = . . . . C . = \n",
      "= . = . . . . . . = \n",
      "= . = . D . . . . = \n",
      "= . = . . . . . . = \n",
      "= . . N . . . . . = \n",
      "= . . . . . . . . = \n",
      "= = = = = = = = = = \n",
      "\n"
     ]
    }
   ],
   "source": [
    "p = PacmanPastilhas(initial=((1,1),0),goal=6,pastilhas={\"N\":[(2,1), (3,7)], \"D\":[(4,5)], \"C\":[(7,3)]},obstacles=fronteira | l | c,dim=10)\n",
    "p.display(p.initial)"
   ]
  },
  {
   "cell_type": "markdown",
   "id": "ce7ca098",
   "metadata": {},
   "source": [
    "Ao aplicarmos o algoritmo de procura em profundidade em árvore a esta instância apercebemo-nos de que não era possível obter uma solução. Fomos portanto averiguar o que se passava e alterámos as funções depth_first_tree_search(problem) e tree_search(problem, frontier) de maneira a que conseguissemos ver quais eram os estados que estavam a ser expandidos para facilitar a formulação de um conclusão."
   ]
  },
  {
   "cell_type": "code",
   "execution_count": 35,
   "id": "540eb150",
   "metadata": {},
   "outputs": [],
   "source": [
    "def depth_first_tree_search1(problem):\n",
    "    \"\"\"Search the deepest nodes in the search tree first.\"\"\"\n",
    "    return tree_search1(problem, Stack())\n",
    "\n",
    "def tree_search1(problem, frontier):\n",
    "    \"\"\"Search through the successors of a problem to find a goal.\n",
    "    The argument frontier should be an empty queue.\n",
    "    Don't worry about repeated paths to a state. [Figure 3.7]\"\"\"\n",
    "    frontier.append(Node(problem.initial))\n",
    "    while frontier:\n",
    "        node = frontier.pop()\n",
    "        print(node)\n",
    "        if problem.goal_test(node.state):\n",
    "            return node\n",
    "        frontier.extend(node.expand(problem))\n",
    "    return None"
   ]
  },
  {
   "cell_type": "code",
   "execution_count": null,
   "id": "48a518e1",
   "metadata": {},
   "outputs": [],
   "source": [
    "p = PacmanPastilhas(initial=((1,1),0),goal=6,pastilhas={\"N\":[(2,1), (3,7)], \"D\":[(4,5)], \"C\":[(7,3)]},obstacles=fronteira | l | c,dim=10)\n",
    "print(\"Resultados da Profundidade em Árvore:\")\n",
    "start = timeit.default_timer()\n",
    "resultado = depth_first_tree_search1(p)\n",
    "stop = timeit.default_timer()\n",
    "print(\"Time: \", stop - start)\n",
    "print(\"Custo:\", str(resultado.path_cost))\n",
    "p.display_trace(5,resultado.solution())"
   ]
  },
  {
   "attachments": {
    "Screenshot%202022-03-28%20at%2019.41.12.png": {
     "image/png": "[encoded data removed]"
    }
   },
   "cell_type": "markdown",
   "id": "9566d57d",
   "metadata": {},
   "source": [
    "![Screenshot%202022-03-28%20at%2019.41.12.png](attachment:Screenshot%202022-03-28%20at%2019.41.12.png)"
   ]
  },
  {
   "cell_type": "markdown",
   "id": "b508b121",
   "metadata": {},
   "source": [
    "Foi assim possível observar que com este algoritmo entramos num ciclo, pelo que, foi criado uma instância de PacmanPastilhas com um mundo com uma dimensão mais pequena, para facilitar assim a obtenção de um resultado."
   ]
  },
  {
   "cell_type": "code",
   "execution_count": 36,
   "id": "be5f6280",
   "metadata": {},
   "outputs": [
    {
     "name": "stdout",
     "output_type": "stream",
     "text": [
      "Resultados da Profundidade em Árvore:\n",
      "Time:  0.00011690000000186274\n",
      "Custo: 5\n",
      "= = = = = \n",
      "= @ + + = \n",
      "= . . + = \n",
      "= . * + = \n",
      "= = = = = \n",
      "\n"
     ]
    }
   ],
   "source": [
    "p = PacmanPastilhas(initial=((1,1),0),goal=2,pastilhas={\"N\":[(2,1),(2,3)]},obstacles=quadro(0,0,5),dim=5)\n",
    "print(\"Resultados da Profundidade em Árvore:\")\n",
    "start = timeit.default_timer()\n",
    "resultado = depth_first_tree_search(p)\n",
    "stop = timeit.default_timer()\n",
    "print(\"Time: \", stop - start)\n",
    "print(\"Custo:\", str(resultado.path_cost))\n",
    "p.display_trace(5,resultado.solution())"
   ]
  },
  {
   "cell_type": "markdown",
   "id": "703bdfa6",
   "metadata": {},
   "source": [
    "Obtemos assim uma solução em que o pacman efetua apenas 5 passos e atinge o seu objetivo. O tempo de execução da procura é consideravelmente baixo, mas isto apenas acontece uma vez que o mundo tem um dimensão mais pequena."
   ]
  },
  {
   "cell_type": "markdown",
   "id": "b6c98fbd",
   "metadata": {},
   "source": [
    "### Procura em largura em árvore"
   ]
  },
  {
   "cell_type": "code",
   "execution_count": 37,
   "id": "3ea153f2",
   "metadata": {},
   "outputs": [
    {
     "name": "stdout",
     "output_type": "stream",
     "text": [
      "Resultados da Largura em Árvore:\n",
      "Time:  0.19798740000000237\n",
      "Custo: 10\n",
      "Caminho: ['E', 'E', 'E', 'E', 'E', 'E', 'E', 'S', 'S', 'O']\n",
      "= = = = = = = = = = \n",
      "= @ + + + + + + + = \n",
      "= . = = = = = = + = \n",
      "= . = . . . . * + = \n",
      "= . = . . . . . . = \n",
      "= . = . . . . . . = \n",
      "= . = . . . . . . = \n",
      "= . . . . . . . . = \n",
      "= . . . . . . . . = \n",
      "= = = = = = = = = = \n",
      "\n"
     ]
    }
   ],
   "source": [
    "p = PacmanPastilhas(initial=((1,1),0),goal=6,pastilhas={\"N\":[(2,1), (3,7)], \"D\":[(4,5)], \"C\":[(7,3)]},obstacles=fronteira | l | c,dim=10)\n",
    "print(\"Resultados da Largura em Árvore:\")\n",
    "start = timeit.default_timer()\n",
    "resultado = breadth_first_tree_search(p)\n",
    "stop = timeit.default_timer()\n",
    "print(\"Time: \", stop - start)\n",
    "print(\"Custo:\", str(resultado.path_cost))\n",
    "print(\"Caminho:\",resultado.solution())\n",
    "p.display_trace(10,resultado.solution())"
   ]
  },
  {
   "cell_type": "markdown",
   "id": "59324201",
   "metadata": {},
   "source": [
    "A solução obtida tem custo 10, ou seja, o pacman dá 10 passos até atingir o seu objetivo. O tempo de execução é relativamente alto."
   ]
  },
  {
   "cell_type": "markdown",
   "id": "99c8602b",
   "metadata": {},
   "source": [
    "### Procura em aprofundamento progressivo em árvore"
   ]
  },
  {
   "cell_type": "code",
   "execution_count": 38,
   "id": "dd0a0277",
   "metadata": {},
   "outputs": [
    {
     "name": "stdout",
     "output_type": "stream",
     "text": [
      "Resultados do Aprofundamento Progressivo em Árvore:\n",
      "Time:  0.19040580000000062\n",
      "Custo: 1249\n",
      "Caminho: ['E', 'E', 'E', 'E', 'E', 'E', 'E', 'S', 'S', 'O']\n",
      "= = = = = = = = = = \n",
      "= @ + + + + + + + = \n",
      "= . = = = = = = + = \n",
      "= . = . . . . * + = \n",
      "= . = . . . . . . = \n",
      "= . = . . . . . . = \n",
      "= . = . . . . . . = \n",
      "= . . . . . . . . = \n",
      "= . . . . . . . . = \n",
      "= = = = = = = = = = \n",
      "\n"
     ]
    }
   ],
   "source": [
    "p = PacmanPastilhas(initial=((1,1),0),goal=6,pastilhas={\"N\":[(2,1), (3,7)], \"D\":[(4,5)], \"C\":[(7,3)]},obstacles=fronteira | l | c,dim=10)\n",
    "print(\"Resultados do Aprofundamento Progressivo em Árvore:\")\n",
    "start = timeit.default_timer()\n",
    "resultado = iterative_deepening_search(p)\n",
    "stop = timeit.default_timer()\n",
    "print(\"Time: \", stop - start)\n",
    "print(\"Custo:\", str(resultado.path_cost))\n",
    "print(\"Caminho:\",resultado.solution())\n",
    "p.display_trace(10,resultado.solution())"
   ]
  },
  {
   "cell_type": "markdown",
   "id": "a5997343",
   "metadata": {},
   "source": [
    "A solução obtida utilizando este algoritmo de procura leva o pacman a dar 10 passos também, no entanto, o custo do resultado é 1249, uma vez que o custo é comulativo à medida que a profundidade vai aumentando. O tempo de execução é muito semelhante ao anterior, mas mais baixo."
   ]
  },
  {
   "cell_type": "markdown",
   "id": "373c54cd",
   "metadata": {},
   "source": [
    "### Procura em custo uniforme em árvore"
   ]
  },
  {
   "cell_type": "code",
   "execution_count": 39,
   "id": "f3858130",
   "metadata": {},
   "outputs": [
    {
     "name": "stdout",
     "output_type": "stream",
     "text": [
      "Resultados do Custo Uniforme em Árvore:\n",
      "Time:  0.0025218999999978564\n",
      "Custo: 10\n",
      "Caminho: ['E', 'E', 'E', 'E', 'E', 'E', 'E', 'S', 'S', 'O']\n",
      "= = = = = = = = = = \n",
      "= @ + + + + + + + = \n",
      "= . = = = = = = + = \n",
      "= . = . . . . * + = \n",
      "= . = . . . . . . = \n",
      "= . = . . . . . . = \n",
      "= . = . . . . . . = \n",
      "= . . . . . . . . = \n",
      "= . . . . . . . . = \n",
      "= = = = = = = = = = \n",
      "\n"
     ]
    }
   ],
   "source": [
    "def best_first_tree_search(problem, f):\n",
    "    f = memoize(f, 'f')\n",
    "    node = Node(problem.initial)\n",
    "    if problem.goal_test(node.state):\n",
    "        return node\n",
    "    frontier = PriorityQueue(min, f)\n",
    "    frontier.append(node)\n",
    "    while frontier:\n",
    "        node = frontier.pop()\n",
    "        if problem.goal_test(node.state):\n",
    "            return node\n",
    "        for child in node.expand(problem):\n",
    "                frontier.append(child)\n",
    "    return None\n",
    "\n",
    "def uniform_cost_tree_search(problem):\n",
    "    return best_first_tree_search(problem, lambda node: node.path_cost)\n",
    "\n",
    "p = PacmanPastilhas(initial=((1,1),0),goal=6,pastilhas={\"N\":[(2,1), (3,7)], \"D\":[(4,5)], \"C\":[(7,3)]},obstacles=fronteira | l | c,dim=10)\n",
    "print(\"Resultados do Custo Uniforme em Árvore:\")\n",
    "start = timeit.default_timer()\n",
    "resultado = uniform_cost_tree_search(p)\n",
    "stop = timeit.default_timer()\n",
    "print(\"Time: \", stop - start)\n",
    "print(\"Custo:\", str(resultado.path_cost))\n",
    "print(\"Caminho:\",resultado.solution())\n",
    "p.display_trace(10,resultado.solution())"
   ]
  },
  {
   "cell_type": "markdown",
   "id": "3da915b1",
   "metadata": {},
   "source": [
    "A solução obtida, como era espetável, é também de 10 passos, mas, no entanto, o tempo de execução é muito inferior aos anteriores. Para além disso, o método da procura em custo uniforme é completo e otimal, pelo que, a solução encontrada é, sem qualquer tipo de dúvida, a solução ótima."
   ]
  },
  {
   "cell_type": "markdown",
   "id": "a267da23",
   "metadata": {},
   "source": [
    "### Conclusão da procura em árvore"
   ]
  },
  {
   "cell_type": "markdown",
   "id": "96e865f7",
   "metadata": {},
   "source": [
    "Podemos assim concluir que, no que diz respeito à procura em árvore, a procura em custo uniforme é aquela em que o tempo de execução é menor e, para além disso, temos a certeza de que a solução é ótima."
   ]
  },
  {
   "cell_type": "markdown",
   "id": "7bc311c3",
   "metadata": {},
   "source": [
    "## Procura em grafo"
   ]
  },
  {
   "cell_type": "markdown",
   "id": "4a5a1122",
   "metadata": {},
   "source": [
    "### Procura em profundidade em grafo"
   ]
  },
  {
   "cell_type": "code",
   "execution_count": 40,
   "id": "3352dd07",
   "metadata": {},
   "outputs": [
    {
     "name": "stdout",
     "output_type": "stream",
     "text": [
      "Resultados da Profundidade em Grafo:\n",
      "Time:  0.002473000000001946\n",
      "Custo: 10\n",
      "Caminho: ['E', 'E', 'E', 'E', 'E', 'E', 'E', 'S', 'S', 'O']\n",
      "= = = = = = = = = = \n",
      "= @ + + + + + + + = \n",
      "= . = = = = = = + = \n",
      "= . = . . . . * + = \n",
      "= . = . . . . . . = \n",
      "= . = . . . . . . = \n",
      "= . = . . . . . . = \n",
      "= . . . . . . . . = \n",
      "= . . . . . . . . = \n",
      "= = = = = = = = = = \n",
      "\n"
     ]
    }
   ],
   "source": [
    "p = PacmanPastilhas(initial=((1,1),0),goal=6,pastilhas={\"N\":[(2,1), (3,7)], \"D\":[(4,5)], \"C\":[(7,3)]},obstacles=fronteira | l | c,dim=10)\n",
    "print(\"Resultados da Profundidade em Grafo:\")\n",
    "start = timeit.default_timer()\n",
    "resultado = depth_first_graph_search(p)\n",
    "stop = timeit.default_timer()\n",
    "print(\"Time: \", stop - start)\n",
    "print(\"Custo:\", str(resultado.path_cost))\n",
    "print(\"Caminho:\",resultado.solution())\n",
    "p.display_trace(10,resultado.solution())"
   ]
  },
  {
   "cell_type": "markdown",
   "id": "bdbcb6d2",
   "metadata": {},
   "source": [
    "A solução obtida tem um custo de 10 passos. O tempo de execução é consideravlemente baixo."
   ]
  },
  {
   "cell_type": "markdown",
   "id": "0ca8606f",
   "metadata": {},
   "source": [
    "### Procura em largura em grafo"
   ]
  },
  {
   "cell_type": "code",
   "execution_count": 41,
   "id": "e29793e1",
   "metadata": {},
   "outputs": [
    {
     "name": "stdout",
     "output_type": "stream",
     "text": [
      "Resultados da Largura em Grafo:\n",
      "Time:  0.0013268999999951347\n",
      "Custo: 10\n",
      "Caminho: ['E', 'E', 'E', 'E', 'E', 'E', 'E', 'S', 'S', 'O']\n",
      "= = = = = = = = = = \n",
      "= @ + + + + + + + = \n",
      "= . = = = = = = + = \n",
      "= . = . . . . * + = \n",
      "= . = . . . . . . = \n",
      "= . = . . . . . . = \n",
      "= . = . . . . . . = \n",
      "= . . . . . . . . = \n",
      "= . . . . . . . . = \n",
      "= = = = = = = = = = \n",
      "\n"
     ]
    }
   ],
   "source": [
    "def breadth_first_graph_search(problem):\n",
    "    \"\"\"Search the deepest nodes in the search tree first.\"\"\"\n",
    "    return graph_search(problem, FIFOQueue())\n",
    "\n",
    "p = PacmanPastilhas(initial=((1,1),0),goal=6,pastilhas={\"N\":[(2,1), (3,7)], \"D\":[(4,5)], \"C\":[(7,3)]},obstacles=fronteira | l | c,dim=10)\n",
    "print(\"Resultados da Largura em Grafo:\")\n",
    "start = timeit.default_timer()\n",
    "resultado = breadth_first_graph_search(p)\n",
    "stop = timeit.default_timer()\n",
    "print(\"Time: \", stop - start)\n",
    "print(\"Custo:\", str(resultado.path_cost))\n",
    "print(\"Caminho:\",resultado.solution())\n",
    "p.display_trace(10,resultado.solution())"
   ]
  },
  {
   "cell_type": "markdown",
   "id": "80dc49d8",
   "metadata": {},
   "source": [
    "A solução obtida tem também um custo de 10 passos, mas no entanto, o tempo de execução é muito inferior ao anterior."
   ]
  },
  {
   "cell_type": "markdown",
   "id": "cf6387eb",
   "metadata": {},
   "source": [
    "### Procura em custo uniforme em grafo"
   ]
  },
  {
   "cell_type": "code",
   "execution_count": 42,
   "id": "c20ce5c4",
   "metadata": {},
   "outputs": [
    {
     "name": "stdout",
     "output_type": "stream",
     "text": [
      "Pontos iniciais 0\n",
      "Resultados do Custo Uniforme em Grafo:\n",
      "Time:  0.000671400000001654\n",
      "Custo: 10\n",
      "Caminho: ['E', 'E', 'E', 'E', 'E', 'E', 'E', 'S', 'S', 'O']\n",
      "= = = = = = = = = = \n",
      "= @ + + + + + + + = \n",
      "= . = = = = = = + = \n",
      "= . = . . . . * + = \n",
      "= . = . . . . . . = \n",
      "= . = . . . . . . = \n",
      "= . = . . . . . . = \n",
      "= . . . . . . . . = \n",
      "= . . . . . . . . = \n",
      "= = = = = = = = = = \n",
      "\n"
     ]
    }
   ],
   "source": [
    "p = PacmanPastilhas(initial=((1,1),0),goal=6,pastilhas={\"N\":[(2,1), (3,7)], \"D\":[(4,5)], \"C\":[(7,3)]},obstacles=fronteira | l | c,dim=10)\n",
    "print(\"Pontos iniciais\", p.pontos)\n",
    "print(\"Resultados do Custo Uniforme em Grafo:\")\n",
    "start = timeit.default_timer()\n",
    "resultado = uniform_cost_search(p)\n",
    "stop = timeit.default_timer()\n",
    "print(\"Time: \", stop - start)\n",
    "print(\"Custo:\", str(resultado.path_cost))\n",
    "print(\"Caminho:\",resultado.solution())\n",
    "p.display_trace(10,resultado.solution())"
   ]
  },
  {
   "cell_type": "markdown",
   "id": "9454fd99",
   "metadata": {},
   "source": [
    "Mais uma vez, a solução obtida tem um custo de 10 passos e o tempo de execução é inferior aos anteriores. Para além disso, o método da procura em custo uniforme é completo e otimal, pelo que, a solução encontrada é, sem qualquer tipo de dúvida, a solução ótima."
   ]
  },
  {
   "cell_type": "markdown",
   "id": "a7fa0e6e",
   "metadata": {},
   "source": [
    "### Conclusão da procura em grafo"
   ]
  },
  {
   "cell_type": "markdown",
   "id": "c29bc426",
   "metadata": {},
   "source": [
    "Como era expetável, a procura em custo uniforme é a melhor solução aquando da procura em grafo. "
   ]
  },
  {
   "cell_type": "markdown",
   "id": "d47ab454",
   "metadata": {},
   "source": [
    "## Conclusão"
   ]
  },
  {
   "cell_type": "markdown",
   "id": "7088b7fe",
   "metadata": {},
   "source": [
    "Em suma, podemos concluir que, em ambos os métodos de procura (árvore e grafo), o método que mais facilmente encontra a solução ótima é, sem dúvida, o custo uniforme. Mas, ainda assim, a procura em grafo com custo uniforme tem um tempo de execução inferior à procura em árvore. Este facto deve-se a que, na procura em grafo, um estado não pode ser expandido mais do que uma vez, mas pode ser revisitado. De uma forma mais detalhada, um estado só é revisitado caso o caminho que lhe esteja associado, desde o estado inicial, seja infeior ao caminho, desse mesmo estado, que se encontra na fronteira. Temos ainda que, as soluções da procura de custo uniforme em árvore e em grafo são necessariamente as mesmas, facto que pode ser verificado pelos testes realizados mais acima."
   ]
  },
  {
   "cell_type": "markdown",
   "id": "7308f53e",
   "metadata": {},
   "source": [
    "Por outro lado, a procura em profundidade é aquela em que o tempo de execução é maior. No entanto, aquando da procura em árvore, nem tão pouco conseguimos encontrar uma solução uma vez que o algoritmo entra num ciclo."
   ]
  }
 ],
 "metadata": {
  "kernelspec": {
   "display_name": "Python 3 (ipykernel)",
   "language": "python",
   "name": "python3"
  },
  "language_info": {
   "codemirror_mode": {
    "name": "ipython",
    "version": 3
   },
   "file_extension": ".py",
   "mimetype": "text/x-python",
   "name": "python",
   "nbconvert_exporter": "python",
   "pygments_lexer": "ipython3",
   "version": "3.9.12"
  }
 },
 "nbformat": 4,
 "nbformat_minor": 5
}
